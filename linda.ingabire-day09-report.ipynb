{
 "cells": [
  {
   "cell_type": "code",
   "execution_count": 1,
   "id": "300172b0",
   "metadata": {},
   "outputs": [
    {
     "name": "stdin",
     "output_type": "stream",
     "text": [
      "Enter the first value:  45\n",
      "Enter the first value:  98\n"
     ]
    },
    {
     "name": "stdout",
     "output_type": "stream",
     "text": [
      "the greatest number is : 98\n"
     ]
    }
   ],
   "source": [
    "def find_max():\n",
    "    \"\"\"  function that allows a user entering two numeric inputs and will returns the greater value of them\"\"\"\n",
    "\n",
    "    if x>y:\n",
    "        print(\"the greatest number is:\", x)\n",
    "    else:\n",
    "        print(\"the greatest number is :\",y)\n",
    "x=int(input(\"Enter the first value: \"))\n",
    "y=int(input(\"Enter the first value: \"))\n",
    "find_max()"
   ]
  },
  {
   "cell_type": "code",
   "execution_count": 2,
   "id": "1e0d4140-0f2e-449f-a02b-e0802b2df356",
   "metadata": {},
   "outputs": [
    {
     "name": "stdout",
     "output_type": "stream",
     "text": [
      "  function that allows a user entering two numeric inputs and will returns the greater value of them\n"
     ]
    }
   ],
   "source": [
    "print(find_max.__doc__)"
   ]
  },
  {
   "cell_type": "code",
   "execution_count": 4,
   "id": "95e6bdbf",
   "metadata": {},
   "outputs": [
    {
     "name": "stdin",
     "output_type": "stream",
     "text": [
      "enter the first value:  56\n",
      "enter the second value:  74\n",
      "enter the third value:  90\n"
     ]
    },
    {
     "name": "stdout",
     "output_type": "stream",
     "text": [
      "the maximum number is: 90.0\n"
     ]
    }
   ],
   "source": [
    "def find_max_of_three():\n",
    "    \"\"\"the function that finds the maximum number of the values entered by the user \"\"\"\n",
    "    print(\"the maximum number is:\",max(x, y, z))\n",
    "x=float(input(\"enter the first value: \"))  \n",
    "y=float(input(\"enter the second value: \"))\n",
    "z=float(input(\"enter the third value: \"))\n",
    "find_max_of_three()"
   ]
  },
  {
   "cell_type": "code",
   "execution_count": 5,
   "id": "c4fcd27e-6890-40b3-b032-16d04ef435ff",
   "metadata": {},
   "outputs": [
    {
     "name": "stdout",
     "output_type": "stream",
     "text": [
      "the function that finds the maximum number of the values entered by the user \n"
     ]
    }
   ],
   "source": [
    "print(find_max_of_three.__doc__)"
   ]
  },
  {
   "cell_type": "code",
   "execution_count": 6,
   "id": "6130ca5d",
   "metadata": {},
   "outputs": [
    {
     "name": "stdin",
     "output_type": "stream",
     "text": [
      "enter the string:  Programming language\n"
     ]
    },
    {
     "name": "stdout",
     "output_type": "stream",
     "text": [
      "20\n"
     ]
    }
   ],
   "source": [
    "def length():\n",
    "    \"\"\"the function length() that calculates the length of string entered by the user\"\"\"\n",
    "    count=0\n",
    "    for i in stri:\n",
    "        count +=1\n",
    "    print(count)\n",
    "stri=input(\"enter the string: \")\n",
    "length()\n",
    "        \n",
    "        \n",
    "        "
   ]
  },
  {
   "cell_type": "code",
   "execution_count": 7,
   "id": "521ebee8-985b-4536-b907-79ae3229e511",
   "metadata": {},
   "outputs": [
    {
     "name": "stdout",
     "output_type": "stream",
     "text": [
      "the function length() that calculates the length of string entered by the user\n"
     ]
    }
   ],
   "source": [
    "print(length.__doc__)"
   ]
  },
  {
   "cell_type": "markdown",
   "id": "a9fd5b86",
   "metadata": {},
   "source": [
    "c\n"
   ]
  },
  {
   "cell_type": "code",
   "execution_count": 8,
   "id": "42a8bdd3",
   "metadata": {},
   "outputs": [
    {
     "name": "stdin",
     "output_type": "stream",
     "text": [
      "input any character:  y\n"
     ]
    },
    {
     "name": "stdout",
     "output_type": "stream",
     "text": [
      "the character is not vowel\n"
     ]
    }
   ],
   "source": [
    "def vowels(s):\n",
    "    \"\"\" The function that checks whether the character that is entered by the user is a vowel or not \"\"\"\n",
    "    vwls=\"aiuoe\"\n",
    "    i=0\n",
    "    if char in vwls:\n",
    "        print(\"the character is vowel\")\n",
    "    else:\n",
    "        print(\"the character is not vowel\")\n",
    "        \n",
    "char=input(\"input any character: \")        \n",
    "vowels(char)        \n",
    "        "
   ]
  },
  {
   "cell_type": "code",
   "execution_count": 9,
   "id": "5ac914a1-525a-4d17-8111-a91b5ec5d92a",
   "metadata": {},
   "outputs": [
    {
     "name": "stdout",
     "output_type": "stream",
     "text": [
      " The function that checks whether the character that is entered by the user is a vowel or not \n"
     ]
    }
   ],
   "source": [
    "print(vowels.__doc__)"
   ]
  },
  {
   "cell_type": "markdown",
   "id": "9d074d22",
   "metadata": {},
   "source": [
    "Write a function encode() that converts a string into “rövarspråket” (robber’s language) by doubling consonants and placing “o” in between, e.g., “hello” -> “hohelollolo”.\n",
    "\n"
   ]
  },
  {
   "cell_type": "code",
   "execution_count": null,
   "id": "4e595a60",
   "metadata": {},
   "outputs": [],
   "source": []
  },
  {
   "cell_type": "code",
   "execution_count": 11,
   "id": "0053c8d4",
   "metadata": {},
   "outputs": [
    {
     "name": "stdin",
     "output_type": "stream",
     "text": [
      "Enter any string :  hello\n"
     ]
    },
    {
     "data": {
      "text/plain": [
       "'hohelollolo'"
      ]
     },
     "execution_count": 11,
     "metadata": {},
     "output_type": "execute_result"
    }
   ],
   "source": [
    "def encode(string):\n",
    "    \"\"\" Function encode() that converts a string into (robber’s language) by doubling consonants and placing “o” in between.\n",
    "    User must enter any word\n",
    "\n",
    "\"\"\"\n",
    "    vowels = \"aeiouAEIOU\"\n",
    "    result = \"\"\n",
    "    \n",
    "    for char in string:\n",
    "        if char.isalpha() and char not in vowels:\n",
    "            result += char + 'o' + char\n",
    "        else:\n",
    "            result += char\n",
    "    \n",
    "    return result\n",
    "get_user=input(\"Enter any string : \")\n",
    "encode(get_user)"
   ]
  },
  {
   "cell_type": "code",
   "execution_count": 12,
   "id": "4d08a37f-5ad1-40f1-9471-fd2a9687a6c5",
   "metadata": {},
   "outputs": [
    {
     "name": "stdout",
     "output_type": "stream",
     "text": [
      " Function encode() that converts a string into (robber’s language) by doubling consonants and placing “o” in between\n",
      "\n",
      "\n"
     ]
    }
   ],
   "source": [
    "print(encode.__doc__)"
   ]
  },
  {
   "cell_type": "markdown",
   "id": "8aa02892",
   "metadata": {},
   "source": [
    "Create sum_elements() and product_elements() functions to sum and multiply all elements in a list, respectively.\n"
   ]
  },
  {
   "cell_type": "code",
   "execution_count": 34,
   "id": "2a5e4401",
   "metadata": {},
   "outputs": [
    {
     "name": "stdin",
     "output_type": "stream",
     "text": [
      "Enter list and add space between items :  1243\n",
      "Enter list and add space between items :  1 2 4 3\n"
     ]
    },
    {
     "name": "stdout",
     "output_type": "stream",
     "text": [
      "The sum is :  10.0\n",
      "The product is :  24.0\n"
     ]
    }
   ],
   "source": [
    "def sum_elements(lst):\n",
    "    \"\"\"The function product_elements() creates sum of all elements in a list.User will enter the elements in a list\"\"\"\n",
    "    lst=lst.split(\" \")\n",
    "    total = 0\n",
    "    for num in lst:\n",
    "        total=total+float(num)\n",
    "    print(\"The sum is : \",total)\n",
    "\n",
    "def product_elements(listp):\n",
    "    \"\"\"The function  product_elements()  multiply all elements in a list.User will enter the elements in a list\n",
    "\"\"\"\n",
    "    listp=listp.split(\" \")\n",
    "    product = 1\n",
    "    for nump in listp:\n",
    "        product=product*float(nump)\n",
    "    print(\"The product is : \",product)\n",
    "get_my_list=input(\"Enter list and add space between items : \")\n",
    "while True:\n",
    "    if(\" \" in get_my_list):\n",
    "        sum_elements(get_my_list)\n",
    "        product_elements(get_my_list)\n",
    "        break\n",
    "    else:\n",
    "       get_my_list=input(\"Enter list and add space between items : \")\n"
   ]
  },
  {
   "cell_type": "code",
   "execution_count": 36,
   "id": "b708b83a-705d-41a4-ba46-4613779e1990",
   "metadata": {},
   "outputs": [
    {
     "name": "stdout",
     "output_type": "stream",
     "text": [
      "The function product_elements() creates sum of all elements in a list.User will enter the elements in a list\n"
     ]
    }
   ],
   "source": [
    "print(sum_elements.__doc__)"
   ]
  },
  {
   "cell_type": "code",
   "execution_count": 35,
   "id": "88e3ba28-f70b-487c-bfb7-3e858e36c71d",
   "metadata": {},
   "outputs": [
    {
     "name": "stdout",
     "output_type": "stream",
     "text": [
      "The function  product_elements()  multiply all elements in a list.User will enter the elements in a list\n",
      "\n"
     ]
    }
   ],
   "source": [
    "print(product_elements.__doc__)"
   ]
  },
  {
   "cell_type": "code",
   "execution_count": 37,
   "id": "079d1cae",
   "metadata": {},
   "outputs": [
    {
     "name": "stdout",
     "output_type": "stream",
     "text": [
      "olleh\n"
     ]
    }
   ],
   "source": [
    "def reverse_string(s):\n",
    "    \"\"\"Function reverse_string() reverse the characters in a given string.\"\"\"\n",
    "\n",
    "\n",
    "    return s[::-1]\n",
    "\n",
    "reversed_string = reverse_string(\"hello\")\n",
    "print(reversed_string) \n"
   ]
  },
  {
   "cell_type": "code",
   "execution_count": 38,
   "id": "19d7f769-b031-4248-9a85-564710a9d88e",
   "metadata": {},
   "outputs": [
    {
     "name": "stdout",
     "output_type": "stream",
     "text": [
      "Function reverse_string() reverses the characters in a given string.\n"
     ]
    }
   ],
   "source": [
    "print(reverse_string.__doc__)"
   ]
  },
  {
   "cell_type": "code",
   "execution_count": null,
   "id": "87103629",
   "metadata": {},
   "outputs": [],
   "source": [
    "Implement check_palindrome() to verify if a string reads the same forwards and backwards, i.e. is a palindrome.\n",
    "\n"
   ]
  },
  {
   "cell_type": "code",
   "execution_count": 39,
   "id": "aa3e51fb",
   "metadata": {},
   "outputs": [
    {
     "name": "stdout",
     "output_type": "stream",
     "text": [
      "True\n",
      "True\n",
      "False\n",
      "True\n"
     ]
    }
   ],
   "source": [
    "def check_palindrome(s):\n",
    "    \"\"\"A function check_palindrome() that verifies whether a string reads the same forwards and backwards.\n",
    "\n",
    "\"\"\"\n",
    "    normalized_s = ''.join(s.lower().split())\n",
    "    \n",
    "    return normalized_s == normalized_s[::-1]\n",
    "\n",
    "print(check_palindrome(\"madam\"))         \n",
    "print(check_palindrome(\"racecar\"))       \n",
    "print(check_palindrome(\"hello\"))         \n",
    "print(check_palindrome(\"A man a plan a canal Panama\"))  "
   ]
  },
  {
   "cell_type": "code",
   "execution_count": 40,
   "id": "a3e58a4c-14ce-473e-b3f0-debf0570411c",
   "metadata": {},
   "outputs": [
    {
     "name": "stdout",
     "output_type": "stream",
     "text": [
      "A function check_palindrome() that verifies whether a string reads the same forwards and backwards.\n",
      "\n",
      "\n"
     ]
    }
   ],
   "source": [
    "print(check_palindrome.__doc__)"
   ]
  },
  {
   "cell_type": "code",
   "execution_count": 41,
   "id": "54113662",
   "metadata": {},
   "outputs": [
    {
     "name": "stdout",
     "output_type": "stream",
     "text": [
      "True\n",
      "False\n"
     ]
    }
   ],
   "source": [
    "# define a function\n",
    "def check_membership(lst, value):\n",
    "    \"\"\"A function check_membership() determines if a value exists within a list.\n",
    "\n",
    "\"\"\"\n",
    "    return value in lst\n",
    "\n",
    "numbers = [1, 2, 3, 4, 5]\n",
    "print(check_membership(numbers, 3))  \n",
    "print(check_membership(numbers, 6))  \n"
   ]
  },
  {
   "cell_type": "code",
   "execution_count": 42,
   "id": "4345972e-4c3f-4cb9-8089-e695b4893690",
   "metadata": {},
   "outputs": [
    {
     "name": "stdout",
     "output_type": "stream",
     "text": [
      "A function check_membership() determines if a value exists within a list.\n",
      "\n",
      "\n"
     ]
    }
   ],
   "source": [
    "print(check_membership.__doc__)"
   ]
  },
  {
   "cell_type": "markdown",
   "id": "0bba668d-d15b-46dc-b87f-7374470b1bd5",
   "metadata": {},
   "source": [
    "Write check_overlap() to identify if two lists share any elements."
   ]
  },
  {
   "cell_type": "code",
   "execution_count": 17,
   "id": "67f8d84f-238f-46de-b984-d68d855ef9d2",
   "metadata": {},
   "outputs": [
    {
     "name": "stdout",
     "output_type": "stream",
     "text": [
      "the lis1 and lis2 share some elements\n",
      "lis1 and lis2 share element  1\n",
      "lis1 and lis2 share element  3\n"
     ]
    }
   ],
   "source": [
    "# define a function \n",
    "def check_overlap(same_element):\n",
    "    lis1=[1, 3, 4, 2, 6]\n",
    "    lis2=[1, 3, 5, 7, 9]\n",
    "    for i in lis1:\n",
    "        #for j in lis2:\n",
    "            if i in lis1 and i in lis2:\n",
    "                print (\"lis1 and lis2 share element \",i)\n",
    "common_value=print (\"the lis1 and lis2 share some elements\")            \n",
    "check_overlap(common_value)\n"
   ]
  },
  {
   "cell_type": "code",
   "execution_count": null,
   "id": "13a61875-2a59-4903-9637-fe7690de127b",
   "metadata": {},
   "outputs": [],
   "source": [
    "Implement repeat_char() that generates a string with a specified character repeated n times."
   ]
  },
  {
   "cell_type": "code",
   "execution_count": 36,
   "id": "00acbc83-599c-4eed-a50e-5790b64caf01",
   "metadata": {},
   "outputs": [],
   "source": [
    "def repeat_char(String=\"programming\", specifiedChar=\"a\", nTimes=4):\n",
    "    '''\n",
    "    The function takes three arguments and prints the new string.\n",
    "\n",
    "    Parameters:\n",
    "    -- String=\"programming\"\n",
    "    -- specifiedChar=\"a\"\n",
    "    -- nTimes=4\n",
    "\n",
    "    '''\n",
    "    \n",
    "    myNew_string = \"\"\n",
    "    for Char in String:\n",
    "        if Char == specifiedChar:\n",
    "            myNew_string += Char * nTimes\n",
    "        else:\n",
    "            myNew_string += Char\n",
    "            \n",
    "    print(myNew_string)"
   ]
  },
  {
   "cell_type": "code",
   "execution_count": 37,
   "id": "0da93c92-44dd-4016-8b3c-b42adb4251d9",
   "metadata": {},
   "outputs": [
    {
     "name": "stdout",
     "output_type": "stream",
     "text": [
      "Help on function repeat_char in module __main__:\n",
      "\n",
      "repeat_char(String='programming', specifiedChar='a', nTimes=4)\n",
      "    The function takes three arguments and prints the new string.\n",
      "\n",
      "    Parameters:\n",
      "    -- String=\"programming\"\n",
      "    -- specifiedChar=\"a\"\n",
      "    -- nTimes=4\n",
      "\n"
     ]
    }
   ],
   "source": [
    "help(repeat_char)"
   ]
  },
  {
   "cell_type": "code",
   "execution_count": 39,
   "id": "b9daeb0a-e804-46c9-b462-d576c97c98ee",
   "metadata": {},
   "outputs": [
    {
     "name": "stdout",
     "output_type": "stream",
     "text": [
      "Liinda\n"
     ]
    }
   ],
   "source": [
    "repeat_char(nTimes=2, String=\"Linda\", specifiedChar=\"i\")"
   ]
  },
  {
   "cell_type": "code",
   "execution_count": 38,
   "id": "e9903793-971e-44ba-a54b-217e89885475",
   "metadata": {},
   "outputs": [
    {
     "name": "stdout",
     "output_type": "stream",
     "text": [
      "Help on built-in function print in module builtins:\n",
      "\n",
      "print(*args, sep=' ', end='\\n', file=None, flush=False)\n",
      "    Prints the values to a stream, or to sys.stdout by default.\n",
      "\n",
      "    sep\n",
      "      string inserted between values, default a space.\n",
      "    end\n",
      "      string appended after the last value, default a newline.\n",
      "    file\n",
      "      a file-like object (stream); defaults to the current sys.stdout.\n",
      "    flush\n",
      "      whether to forcibly flush the stream.\n",
      "\n"
     ]
    }
   ],
   "source": [
    "help(print)"
   ]
  },
  {
   "cell_type": "markdown",
   "id": "35cc8af4-357a-44e5-9f58-1769bc0f098a",
   "metadata": {},
   "source": [
    "Create a function print_histogram() that takes a list of integers and prints a corresponding histogram."
   ]
  },
  {
   "cell_type": "code",
   "execution_count": 79,
   "id": "0149a27e-0014-4ed8-ad7a-4144904b812a",
   "metadata": {},
   "outputs": [
    {
     "name": "stdout",
     "output_type": "stream",
     "text": [
      "--\n",
      "---\n",
      "----\n",
      "-----\n",
      "------\n"
     ]
    }
   ],
   "source": [
    "def histogram(int_list):\n",
    "    \"\"\"The function print_histogram() iterates over the list int_list.\n",
    "For each number in the list, it prints a line containing that number of asterisks \"\"\"\n",
    "    for num in int_list:\n",
    "        print('-' * num)\n",
    "\n",
    "# Example usage\n",
    "histogram([2, 3, 4, 5, 6])\n",
    "\n",
    "    \n"
   ]
  },
  {
   "cell_type": "code",
   "execution_count": 80,
   "id": "1409edb0-3496-4e0e-be7e-c27083e5a26f",
   "metadata": {},
   "outputs": [
    {
     "name": "stdout",
     "output_type": "stream",
     "text": [
      "Help on function histogram in module __main__:\n",
      "\n",
      "histogram(int_list)\n",
      "    The function print_histogram() iterates over the list int_list.\n",
      "    For each number in the list, it prints a line containing that number of asterisks\n",
      "\n"
     ]
    }
   ],
   "source": [
    "help(histogram)"
   ]
  },
  {
   "cell_type": "code",
   "execution_count": 76,
   "id": "226a8c2e-00a3-4097-b8f9-b8ce571b421b",
   "metadata": {},
   "outputs": [
    {
     "name": "stdout",
     "output_type": "stream",
     "text": [
      "70\n"
     ]
    }
   ],
   "source": [
    "def find_max(num_list):\n",
    "    \"\"\"\"Function identify the largest number in a list. \n",
    "       It initializes max_num to the first element of the list.\n",
    "       Then, it iterates through the list, comparing each number to max_num. If a number is larger than max_num, it updates max_num.\n",
    "       and display it.\"\"\"\n",
    "    max_num = num_list[0]  # Assume the first number is the largest\n",
    "    for num in num_list:\n",
    "        if num > max_num:\n",
    "            max_num = num  # Update max_num if a larger number is found in the next elements\n",
    "    \n",
    "    return max_num\n",
    "\n",
    "print(find_max([31, 65, 17, 20, 70, 34]))  # Output is 70  \n"
   ]
  },
  {
   "cell_type": "code",
   "execution_count": 77,
   "id": "949727e1-be2c-4370-b94a-8cb9fa7dac50",
   "metadata": {},
   "outputs": [
    {
     "name": "stdout",
     "output_type": "stream",
     "text": [
      "Help on function find_max in module __main__:\n",
      "\n",
      "find_max(num_list)\n",
      "    \"Function identify the largest number in a list.\n",
      "    It initializes max_num to the first element of the list.\n",
      "    Then, it iterates through the list, comparing each number to max_num. If a number is larger than max_num, it updates max_num.\n",
      "    and display it.\n",
      "\n"
     ]
    }
   ],
   "source": [
    "help(find_max)"
   ]
  },
  {
   "cell_type": "code",
   "execution_count": 73,
   "id": "970bbd75-ebd4-44c7-9e6f-92778627ed64",
   "metadata": {},
   "outputs": [
    {
     "name": "stdout",
     "output_type": "stream",
     "text": [
      "apple : 5 banana : 6 cherry : 6 date : 4 "
     ]
    }
   ],
   "source": [
    "def words_lengths(word_list):\n",
    "    \"\"\"The function words_lengths() takes a list of words as input.\n",
    "It uses a dictionary where each key is a word and each value is the length of that word.\"\"\"\n",
    "    for word in word_list:\n",
    "        print(word,\":\",len(word), end=' ')\n",
    "\n",
    "words = ['apple', 'banana', 'cherry', 'date']\n",
    "word_lengths = words_lengths(words)\n"
   ]
  },
  {
   "cell_type": "code",
   "execution_count": 74,
   "id": "378831fa-2521-4da7-9ec3-263f2a381a73",
   "metadata": {},
   "outputs": [
    {
     "name": "stdout",
     "output_type": "stream",
     "text": [
      "Help on function words_lengths in module __main__:\n",
      "\n",
      "words_lengths(word_list)\n",
      "    The function words_lengths() takes a list of words as input.\n",
      "    It uses a dictionary where each key is a word and each value is the length of that word.\n",
      "\n"
     ]
    }
   ],
   "source": [
    "help(words_lengths)"
   ]
  },
  {
   "cell_type": "code",
   "execution_count": 81,
   "id": "b7fd4334-0f41-423a-9c10-3f9f955662f7",
   "metadata": {},
   "outputs": [
    {
     "name": "stdout",
     "output_type": "stream",
     "text": [
      "['apple', 'banana', 'cherry']\n"
     ]
    }
   ],
   "source": [
    "def filter_words(word_list, length):\n",
    "    return [word for word in word_list if len(word) > length]\n",
    "\n",
    "# Example usage\n",
    "words = ['apple', 'banana', 'cherry', 'date', 'fig']\n",
    "filtered_words = filter_words(words, 4)\n",
    "print(filtered_words)  # Output: ['apple', 'banana', 'cherry']\n"
   ]
  },
  {
   "cell_type": "code",
   "execution_count": 90,
   "id": "2fbf388e-8fa2-47b2-a5af-c80c9e03eec0",
   "metadata": {},
   "outputs": [
    {
     "name": "stdout",
     "output_type": "stream",
     "text": [
      "['bonjour', 'pomme', 'chat', 'chien', \"'sun' not found\"]\n"
     ]
    }
   ],
   "source": [
    "def translate_french(word_list):\n",
    "    \"\"\"The function translate french worrds by using dictionary\"\"\"\n",
    "    dictionary = {\n",
    "        'hello': 'bonjour',\n",
    "        'apple': 'pomme',\n",
    "        'banana': 'banane',\n",
    "        'cat': 'chat',\n",
    "        'dog': 'chien',\n",
    "        'thank you': 'merci',\n",
    "        'goodbye': 'au revoir',\n",
    "        'please': 's\\'il vous plaît'  \n",
    "    }\n",
    "\n",
    "    \n",
    "    return [dictionary.get(word, f\"'{word}' not found\") for word in word_list]\n",
    "words_to_translate = ['hello', 'apple', 'cat', 'dog', 'sun']\n",
    "translated_words = translate_to_french(words_to_translate)\n",
    "print(translated_words)  \n",
    "  \n"
   ]
  },
  {
   "cell_type": "code",
   "execution_count": 91,
   "id": "a54f6102-0ead-45cb-9843-c25993581245",
   "metadata": {},
   "outputs": [
    {
     "name": "stdout",
     "output_type": "stream",
     "text": [
      "Help on function translate_french in module __main__:\n",
      "\n",
      "translate_french(word_list)\n",
      "    The function translate french worrds by using dictionary\n",
      "\n"
     ]
    }
   ],
   "source": [
    "help(translate_french)"
   ]
  }
 ],
 "metadata": {
  "kernelspec": {
   "display_name": "Python 3 (ipykernel)",
   "language": "python",
   "name": "python3"
  },
  "language_info": {
   "codemirror_mode": {
    "name": "ipython",
    "version": 3
   },
   "file_extension": ".py",
   "mimetype": "text/x-python",
   "name": "python",
   "nbconvert_exporter": "python",
   "pygments_lexer": "ipython3",
   "version": "3.12.6"
  }
 },
 "nbformat": 4,
 "nbformat_minor": 5
}
