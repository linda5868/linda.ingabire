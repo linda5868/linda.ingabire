{
 "cells": [
  {
   "cell_type": "markdown",
   "id": "46f14fb8-ce68-4b18-94d3-0f67876221ac",
   "metadata": {},
   "source": [
    "Question 1."
   ]
  },
  {
   "cell_type": "code",
   "execution_count": 150,
   "id": "998fbc0e-9604-4e4a-8780-4a94876cef22",
   "metadata": {},
   "outputs": [
    {
     "name": "stdin",
     "output_type": "stream",
     "text": [
      "Enter a natural number:  3\n"
     ]
    },
    {
     "name": "stdout",
     "output_type": "stream",
     "text": [
      "Summation result: 4\n"
     ]
    }
   ],
   "source": [
    "n = int(input(\"Enter a natural number: \"))\n",
    "summation=0\n",
    "for i in range(n):\n",
    "    if i % 2 != 0:\n",
    "        summation = summation+(i + 3)\n",
    "print(\"Summation result:\", summation)\n"
   ]
  },
  {
   "cell_type": "code",
   "execution_count": null,
   "id": "bd25ad12-3100-4427-97e3-f510e28a74b9",
   "metadata": {},
   "outputs": [],
   "source": [
    "b."
   ]
  },
  {
   "cell_type": "code",
   "execution_count": 30,
   "id": "9d484e17-7c56-4777-bb52-baa8dd909507",
   "metadata": {},
   "outputs": [
    {
     "name": "stdin",
     "output_type": "stream",
     "text": [
      "Enter a natural number:  4\n"
     ]
    },
    {
     "name": "stdout",
     "output_type": "stream",
     "text": [
      "Product result: 15\n"
     ]
    }
   ],
   "source": [
    "n = int(input(\"Enter a natural number: \"))\n",
    "product = 1\n",
    "for i in range(n):\n",
    "    if i % 2 == 0:\n",
    "        product *= i + 3\n",
    "print(\"Product result:\", product)"
   ]
  },
  {
   "cell_type": "code",
   "execution_count": null,
   "id": "1a05281c-9ee0-44bc-9001-c842675584f3",
   "metadata": {},
   "outputs": [],
   "source": [
    "Question 2."
   ]
  },
  {
   "cell_type": "code",
   "execution_count": 28,
   "id": "6ca57c1e-4d61-4650-b39d-050243d27370",
   "metadata": {},
   "outputs": [
    {
     "name": "stdin",
     "output_type": "stream",
     "text": [
      "Enter the number of the day (0-6):  5\n"
     ]
    },
    {
     "name": "stdout",
     "output_type": "stream",
     "text": [
      "It's a working day: Friday\n"
     ]
    }
   ],
   "source": [
    "day = int(input(\"Enter the number of the day (0-6): \"))\n",
    "days = [\"Sunday\", \"Monday\", \"Tuesday\", \"Wednesday\", \"Thursday\", \"Friday\", \"Saturday\"]\n",
    "if day in range(6):\n",
    "    print(\"It's a working day:\", days[day])\n",
    "else:\n",
    "    print(\"It's the weekend:\", days[day])\n"
   ]
  },
  {
   "cell_type": "code",
   "execution_count": null,
   "id": "84057a33-ce94-4434-9707-a8f8f3dbf4ef",
   "metadata": {},
   "outputs": [],
   "source": [
    "Question 3."
   ]
  },
  {
   "cell_type": "code",
   "execution_count": 32,
   "id": "26b1c152-1dc2-49ce-8407-da118830d5f7",
   "metadata": {},
   "outputs": [
    {
     "name": "stdin",
     "output_type": "stream",
     "text": [
      "Enter a month number (0-11):  3\n"
     ]
    },
    {
     "name": "stdout",
     "output_type": "stream",
     "text": [
      "Days in month: 30\n"
     ]
    }
   ],
   "source": [
    "month = int(input(\"Enter a month number (0-11): \"))\n",
    "days_in_month = [31, 28, 31, 30, 31, 30, 31, 31, 30, 31, 30, 31]\n",
    "print(\"Days in month:\", days_in_month[month])\n"
   ]
  },
  {
   "cell_type": "code",
   "execution_count": null,
   "id": "3fbf4321-0223-4f55-9460-607e5763fcdc",
   "metadata": {},
   "outputs": [],
   "source": [
    "Question 4."
   ]
  },
  {
   "cell_type": "code",
   "execution_count": 34,
   "id": "51e6d9a5-572b-4e6a-8503-1945af530d0a",
   "metadata": {},
   "outputs": [
    {
     "name": "stdout",
     "output_type": "stream",
     "text": [
      "Linda\n",
      "Linda\n",
      "Linda\n"
     ]
    }
   ],
   "source": [
    "#  for loop\n",
    "i=0\n",
    "for i in range(3):\n",
    "    print(\"Linda\")"
   ]
  },
  {
   "cell_type": "code",
   "execution_count": 42,
   "id": "42702c68-730a-4fe3-badc-6c0261cf4655",
   "metadata": {},
   "outputs": [
    {
     "name": "stdout",
     "output_type": "stream",
     "text": [
      "Linda\n",
      "Linda\n",
      "Linda\n"
     ]
    }
   ],
   "source": [
    "i = 0\n",
    "while (i < 3):\n",
    "    print(\"Linda\")\n",
    "    i += 1"
   ]
  },
  {
   "cell_type": "markdown",
   "id": "be9003be-3722-4d88-957f-4688874b4334",
   "metadata": {},
   "source": [
    "Question 5. "
   ]
  },
  {
   "cell_type": "code",
   "execution_count": 60,
   "id": "94945328-3d94-42fc-94bd-32b428e83036",
   "metadata": {},
   "outputs": [
    {
     "name": "stdin",
     "output_type": "stream",
     "text": [
      "Enter the first number:  0\n",
      "Enter the second number:  1\n"
     ]
    },
    {
     "name": "stdout",
     "output_type": "stream",
     "text": [
      "First 15 terms of Fibonacci sequence: [0, 1, 1, 2, 3, 5, 8, 13, 21, 34, 55, 89, 144, 233, 377]\n"
     ]
    }
   ],
   "source": [
    "a0 = int(input(\"Enter the first number: \"))\n",
    "a1 = int(input(\"Enter the second number: \"))\n",
    "fib_sequence = [a0, a1]\n",
    "for i in range(2, 15):\n",
    "    fib_sequence.append(fib_sequence[-2] + fib_sequence[-1])\n",
    "print(\"First 15 terms of Fibonacci sequence:\", fib_sequence)\n"
   ]
  },
  {
   "cell_type": "code",
   "execution_count": null,
   "id": "cc0d656e-89e2-48c0-9988-995f748906b3",
   "metadata": {},
   "outputs": [],
   "source": [
    "Question 6.`"
   ]
  },
  {
   "cell_type": "code",
   "execution_count": 43,
   "id": "8ec49896-c46e-421b-87da-76970f9c3a7d",
   "metadata": {},
   "outputs": [
    {
     "name": "stdout",
     "output_type": "stream",
     "text": [
      "30 terms of fibonacci sequence are:  [0, 1, 1, 2, 3, 5, 8, 13, 21, 34, 55, 89, 144, 233, 377, 610, 987, 1597, 2584, 4181, 6765, 10946, 17711, 28657, 46368, 75025, 121393, 196418, 317811, 514229, 832040, 1346269]\n"
     ]
    }
   ],
   "source": [
    "x0=0\n",
    "x1=1\n",
    "sequence = [x0, x1]\n",
    "for i in range(30):\n",
    "    sequence.append(sequence[-2] + sequence[-1])\n",
    "print(\"30 terms of fibonacci sequence are: \", sequence)    \n",
    "    "
   ]
  },
  {
   "cell_type": "code",
   "execution_count": null,
   "id": "b7091245-2c0d-4923-8e44-2b203230097c",
   "metadata": {},
   "outputs": [],
   "source": [
    "Question 7.a"
   ]
  },
  {
   "cell_type": "code",
   "execution_count": 152,
   "id": "82d07af4-eb0a-4c01-a2b0-ad70cf166449",
   "metadata": {},
   "outputs": [
    {
     "name": "stdin",
     "output_type": "stream",
     "text": [
      "enter the year:  100\n"
     ]
    },
    {
     "name": "stdout",
     "output_type": "stream",
     "text": [
      "100 is not a leap year\n"
     ]
    }
   ],
   "source": [
    "year=int(input(\"enter the year: \"))\n",
    "if(year % 4 ==0 and year % 100 !=0 or year%400==0 ):\n",
    "    print(f\"{year} is a leap year\")  \n",
    "else:\n",
    "    print(f\"{year} is not a leap year\")"
   ]
  },
  {
   "cell_type": "code",
   "execution_count": null,
   "id": "b28d7ad2-d33e-41de-bf4d-0990bd531135",
   "metadata": {},
   "outputs": [],
   "source": [
    "b."
   ]
  },
  {
   "cell_type": "code",
   "execution_count": 153,
   "id": "9fbac7be-549a-49aa-84ea-91944ac67a7c",
   "metadata": {},
   "outputs": [
    {
     "name": "stdin",
     "output_type": "stream",
     "text": [
      "enter the natural number:  3\n"
     ]
    },
    {
     "name": "stdout",
     "output_type": "stream",
     "text": [
      "sum of squares is  14\n"
     ]
    }
   ],
   "source": [
    "n=int(input(\"enter the natural number: \"))\n",
    "sum=0\n",
    "for i in range(n+1):\n",
    "    #square=i**2\n",
    "    sum=sum + i**2\n",
    "#summation = sum( i**2 for i in range(9))\n",
    "print(\"sum of squares is \",sum)                 "
   ]
  },
  {
   "cell_type": "code",
   "execution_count": null,
   "id": "edb559fc-5826-497a-a7be-33893e6aeb9b",
   "metadata": {},
   "outputs": [],
   "source": [
    "Question 8."
   ]
  },
  {
   "cell_type": "code",
   "execution_count": 162,
   "id": "81d6fe4d-f756-4666-8855-91bdc4e664a6",
   "metadata": {},
   "outputs": [
    {
     "name": "stdin",
     "output_type": "stream",
     "text": [
      "enter the natural number:  3\n"
     ]
    },
    {
     "name": "stdout",
     "output_type": "stream",
     "text": [
      "The sum is  14\n"
     ]
    }
   ],
   "source": [
    "user_input=int(input(\"enter the natural number: \"))\n",
    "k=1\n",
    "sum_while=0\n",
    "while k<(user_input+1):\n",
    "    sum_while=sum_while+(k**2)\n",
    "    k=k+1\n",
    "print(\"The sum is \", sum_while)"
   ]
  },
  {
   "cell_type": "code",
   "execution_count": null,
   "id": "0b6d6136-06e8-4273-84ac-377f24bf241c",
   "metadata": {},
   "outputs": [],
   "source": [
    "b."
   ]
  },
  {
   "cell_type": "code",
   "execution_count": 124,
   "id": "a79022e9-d62e-420e-835e-e001efbb9b33",
   "metadata": {},
   "outputs": [
    {
     "name": "stdin",
     "output_type": "stream",
     "text": [
      "Enter M:  9\n"
     ]
    },
    {
     "name": "stdout",
     "output_type": "stream",
     "text": [
      "Smallest n: 4\n"
     ]
    }
   ],
   "source": [
    "# Finding smallest n such that sum of squares >= M\n",
    "M = int(input(\"Enter M: \"))\n",
    "n = 1\n",
    "sum_of_squares = 0\n",
    "while sum_of_squares < M:\n",
    "    sum_of_squares += n ** 2\n",
    "    n += 1\n",
    "print(\"Smallest n:\", n)"
   ]
  },
  {
   "cell_type": "code",
   "execution_count": null,
   "id": "45830144-5a45-40b4-b492-53f920e77ae7",
   "metadata": {},
   "outputs": [],
   "source": [
    "Question 9."
   ]
  },
  {
   "cell_type": "code",
   "execution_count": null,
   "id": "36077720-745e-4424-89b1-3960813609b1",
   "metadata": {},
   "outputs": [],
   "source": [
    "a."
   ]
  },
  {
   "cell_type": "code",
   "execution_count": 167,
   "id": "e704cdc5-50dc-4317-9942-3b800137056c",
   "metadata": {},
   "outputs": [
    {
     "name": "stdin",
     "output_type": "stream",
     "text": [
      "enter the natural number:  6\n"
     ]
    },
    {
     "name": "stdout",
     "output_type": "stream",
     "text": [
      "the divisors are : 1\n",
      "the divisors are : 2\n",
      "the divisors are : 3\n"
     ]
    }
   ],
   "source": [
    "natural_number=int(input(\"enter the natural number: \"))\n",
    "for i in range(1,natural_number):\n",
    "    if (natural_number % i ==0):\n",
    "        print(\"the divisors are :\", i)"
   ]
  },
  {
   "cell_type": "code",
   "execution_count": 182,
   "id": "ef81dbe8-0f43-496f-bb27-be0149e12dc3",
   "metadata": {},
   "outputs": [
    {
     "name": "stdin",
     "output_type": "stream",
     "text": [
      "Enter value of natural number :  25\n"
     ]
    },
    {
     "name": "stdout",
     "output_type": "stream",
     "text": [
      "[5, 5]\n"
     ]
    }
   ],
   "source": [
    "get_input=int(input(\"Enter value of natural number : \"))\n",
    "p_factors=[]\n",
    "while get_input % 2 == 0:\n",
    "    p_factors.append(2)\n",
    "    get_input =get_input//2\n",
    "for i in range (3,int(get_input**0.5)+1,2):\n",
    "    while get_input % i == 0:\n",
    "       p_factors.append(i)\n",
    "       get_input=get_input//i\n",
    "if(get_input>2):\n",
    "    p_factors.append(get_input)\n",
    "print(p_factors)"
   ]
  },
  {
   "cell_type": "code",
   "execution_count": 175,
   "id": "1b36b7dd-6632-419b-a856-e2a966b66935",
   "metadata": {},
   "outputs": [
    {
     "name": "stdout",
     "output_type": "stream",
     "text": [
      "2\n"
     ]
    }
   ],
   "source": [
    "a=5\n",
    "print(a//2)\n",
    "        "
   ]
  },
  {
   "cell_type": "code",
   "execution_count": null,
   "id": "43d4a8b4-677c-4def-aef8-01283938a728",
   "metadata": {},
   "outputs": [],
   "source": [
    "Question 10."
   ]
  },
  {
   "cell_type": "code",
   "execution_count": 127,
   "id": "6fd4a9eb-0c4f-4120-b9d0-ddc622a26cbb",
   "metadata": {},
   "outputs": [
    {
     "name": "stdin",
     "output_type": "stream",
     "text": [
      "Enter a number between 0 and 9:  6\n",
      "Enter another number:  3\n"
     ]
    },
    {
     "name": "stdout",
     "output_type": "stream",
     "text": [
      "6 * 1 = 6\n",
      "6 * 2 = 12\n",
      "6 * 3 = 18\n"
     ]
    }
   ],
   "source": [
    "x = int(input(\"Enter a number between 0 and 9: \"))\n",
    "N = int(input(\"Enter another number: \"))\n",
    "for i in range(1, N + 1):\n",
    "    print(f\"{x} * {i} = {x * i}\")\n"
   ]
  },
  {
   "cell_type": "code",
   "execution_count": null,
   "id": "c44c5ee0-a097-4b76-9878-37bfdfb2089d",
   "metadata": {},
   "outputs": [],
   "source": [
    "11."
   ]
  },
  {
   "cell_type": "code",
   "execution_count": 128,
   "id": "070fa8b4-23d5-4f83-b1b8-802e8c596bf9",
   "metadata": {},
   "outputs": [
    {
     "name": "stdout",
     "output_type": "stream",
     "text": [
      "Multiples of 3, 7, or 11: [0, 3, 6, 7, 9, 11, 12, 14, 15, 18, 21, 22, 24, 27, 28, 30, 33, 35, 36, 39]\n"
     ]
    }
   ],
   "source": [
    "multiples = [i for i in range(41) if i % 3 == 0 or i % 7 == 0 or i % 11 == 0]\n",
    "print(\"Multiples of 3, 7, or 11:\", multiples)\n"
   ]
  },
  {
   "cell_type": "code",
   "execution_count": null,
   "id": "4f5726f4-5d0a-4149-a507-8c80d8ff31ad",
   "metadata": {},
   "outputs": [],
   "source": [
    "12."
   ]
  },
  {
   "cell_type": "code",
   "execution_count": 129,
   "id": "e9c2a687-45aa-4ff7-8fd7-04d737ca1302",
   "metadata": {},
   "outputs": [
    {
     "name": "stdin",
     "output_type": "stream",
     "text": [
      "Enter a floating-point number:  2.5\n"
     ]
    },
    {
     "name": "stdout",
     "output_type": "stream",
     "text": [
      "Floor value: 2\n"
     ]
    }
   ],
   "source": [
    "import math\n",
    "\n",
    "x = float(input(\"Enter a floating-point number: \"))\n",
    "print(\"Floor value:\", math.floor(x))\n"
   ]
  },
  {
   "cell_type": "code",
   "execution_count": null,
   "id": "3ea00946-21be-4fea-b4cd-caecd114147b",
   "metadata": {},
   "outputs": [],
   "source": [
    "13."
   ]
  },
  {
   "cell_type": "code",
   "execution_count": 149,
   "id": "e52259d6-20a8-4b32-9919-f8353375457e",
   "metadata": {},
   "outputs": [
    {
     "name": "stdin",
     "output_type": "stream",
     "text": [
      "Enter x coordinate :  3\n",
      "Enter y coordinate :  4\n"
     ]
    },
    {
     "name": "stdout",
     "output_type": "stream",
     "text": [
      "1st Quadrant\n"
     ]
    },
    {
     "name": "stdin",
     "output_type": "stream",
     "text": [
      "Type q to quit or any key to continue q\n"
     ]
    },
    {
     "name": "stdout",
     "output_type": "stream",
     "text": [
      "Goodbye!\n"
     ]
    }
   ],
   "source": [
    "while True:\n",
    "    \n",
    "    x = float(input(\"Enter x coordinate : \"))\n",
    "    y = float(input(\"Enter y coordinate : \"))\n",
    "    if x == 0 and y == 0:\n",
    "        print(\"Point is at the origin.\")\n",
    "    elif x == 0:\n",
    "        print(\"Point is on the y-axis.\")\n",
    "    elif y == 0:\n",
    "        print(\"Point is on the x-axis.\")\n",
    "    elif x > 0 and y > 0:\n",
    "        print(\"1st Quadrant\")\n",
    "    elif x < 0 and y > 0:\n",
    "        print(\"2nd Quadrant\")\n",
    "    elif x < 0 and y < 0:\n",
    "        print(\"3rd Quadrant\")\n",
    "    else:\n",
    "        print(\"4th Quadrant\")\n",
    "    read_user=input(\"Type q to quit or any key to continue\")\n",
    "    if(read_user.lower()==\"q\"):\n",
    "        print(\"Goodbye!\")\n",
    "        break\n"
   ]
  },
  {
   "cell_type": "code",
   "execution_count": null,
   "id": "cc7a4eba-4de0-4e26-9c04-d6b0a862f781",
   "metadata": {},
   "outputs": [],
   "source": [
    "14."
   ]
  },
  {
   "cell_type": "code",
   "execution_count": 163,
   "id": "441723a7-be88-4a87-9ad4-106a1aba348d",
   "metadata": {},
   "outputs": [
    {
     "name": "stdin",
     "output_type": "stream",
     "text": [
      "Enter an integer between 0 and 9:  6\n",
      "Enter another integer between 0 and 255:  77\n"
     ]
    },
    {
     "name": "stdout",
     "output_type": "stream",
     "text": [
      "Multiples of 6 up to 77 : [6, 12, 18, 24, 30, 36, 42, 48, 54, 60, 66, 72]\n"
     ]
    },
    {
     "name": "stdin",
     "output_type": "stream",
     "text": [
      "Do you want to continue? (yes/no):  yes\n",
      "Enter an integer between 0 and 9:  7\n",
      "Enter another integer between 0 and 255:  88\n"
     ]
    },
    {
     "name": "stdout",
     "output_type": "stream",
     "text": [
      "Multiples of 7 up to 88 : [7, 14, 21, 28, 35, 42, 49, 56, 63, 70, 77, 84]\n"
     ]
    },
    {
     "name": "stdin",
     "output_type": "stream",
     "text": [
      "Do you want to continue? (yes/no):  no\n"
     ]
    }
   ],
   "source": [
    "while True:\n",
    "    x = int(input(\"Enter an integer between 0 and 9: \"))\n",
    "    if 0 <= x < 10:\n",
    "        maximu_val = int(input(\"Enter another integer between 0 and 255: \"))\n",
    "        if 0 <= max_val < 256:\n",
    "            multiples = [i for i in range(x, maximu_val + 1, x)]\n",
    "            print(\"Multiples of\", x, \"up to\", maximu_val, \":\", multiples)\n",
    "            cont = input(\"Do you want to continue? (yes/no): \")\n",
    "            if cont.lower() != \"yes\":\n",
    "                break\n"
   ]
  }
 ],
 "metadata": {
  "kernelspec": {
   "display_name": "Python 3 (ipykernel)",
   "language": "python",
   "name": "python3"
  },
  "language_info": {
   "codemirror_mode": {
    "name": "ipython",
    "version": 3
   },
   "file_extension": ".py",
   "mimetype": "text/x-python",
   "name": "python",
   "nbconvert_exporter": "python",
   "pygments_lexer": "ipython3",
   "version": "3.12.6"
  }
 },
 "nbformat": 4,
 "nbformat_minor": 5
}
