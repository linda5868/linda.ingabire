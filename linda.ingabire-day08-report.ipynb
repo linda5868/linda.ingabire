{
 "cells": [
  {
   "cell_type": "code",
   "execution_count": 1,
   "id": "300172b0",
   "metadata": {},
   "outputs": [
    {
     "name": "stdin",
     "output_type": "stream",
     "text": [
      "Enter the first value:  45\n",
      "Enter the first value:  98\n"
     ]
    },
    {
     "name": "stdout",
     "output_type": "stream",
     "text": [
      "the greatest number is : 98\n"
     ]
    }
   ],
   "source": [
    "def find_max():\n",
    "    \"\"\"  function that allows a user entering two numeric inputs and will returns the greater value of them\"\"\"\n",
    "\n",
    "    if x>y:\n",
    "        print(\"the greatest number is:\", x)\n",
    "    else:\n",
    "        print(\"the greatest number is :\",y)\n",
    "x=int(input(\"Enter the first value: \"))\n",
    "y=int(input(\"Enter the first value: \"))\n",
    "find_max()"
   ]
  },
  {
   "cell_type": "code",
   "execution_count": 2,
   "id": "1e0d4140-0f2e-449f-a02b-e0802b2df356",
   "metadata": {},
   "outputs": [
    {
     "name": "stdout",
     "output_type": "stream",
     "text": [
      "  function that allows a user entering two numeric inputs and will returns the greater value of them\n"
     ]
    }
   ],
   "source": [
    "print(find_max.__doc__)"
   ]
  },
  {
   "cell_type": "code",
   "execution_count": 4,
   "id": "95e6bdbf",
   "metadata": {},
   "outputs": [
    {
     "name": "stdin",
     "output_type": "stream",
     "text": [
      "enter the first value:  56\n",
      "enter the second value:  74\n",
      "enter the third value:  90\n"
     ]
    },
    {
     "name": "stdout",
     "output_type": "stream",
     "text": [
      "the maximum number is: 90.0\n"
     ]
    }
   ],
   "source": [
    "def find_max_of_three():\n",
    "    \"\"\"the function that finds the maximum number of the values entered by the user \"\"\"\n",
    "    print(\"the maximum number is:\",max(x, y, z))\n",
    "x=float(input(\"enter the first value: \"))  \n",
    "y=float(input(\"enter the second value: \"))\n",
    "z=float(input(\"enter the third value: \"))\n",
    "find_max_of_three()"
   ]
  },
  {
   "cell_type": "code",
   "execution_count": 5,
   "id": "c4fcd27e-6890-40b3-b032-16d04ef435ff",
   "metadata": {},
   "outputs": [
    {
     "name": "stdout",
     "output_type": "stream",
     "text": [
      "the function that finds the maximum number of the values entered by the user \n"
     ]
    }
   ],
   "source": [
    "print(find_max_of_three.__doc__)"
   ]
  },
  {
   "cell_type": "code",
   "execution_count": 6,
   "id": "6130ca5d",
   "metadata": {},
   "outputs": [
    {
     "name": "stdin",
     "output_type": "stream",
     "text": [
      "enter the string:  Programming language\n"
     ]
    },
    {
     "name": "stdout",
     "output_type": "stream",
     "text": [
      "20\n"
     ]
    }
   ],
   "source": [
    "def length():\n",
    "    \"\"\"the function length() that calculates the length of string entered by the user\"\"\"\n",
    "    count=0\n",
    "    for i in stri:\n",
    "        count +=1\n",
    "    print(count)\n",
    "stri=input(\"enter the string: \")\n",
    "length()\n",
    "        \n",
    "        \n",
    "        "
   ]
  },
  {
   "cell_type": "code",
   "execution_count": 7,
   "id": "521ebee8-985b-4536-b907-79ae3229e511",
   "metadata": {},
   "outputs": [
    {
     "name": "stdout",
     "output_type": "stream",
     "text": [
      "the function length() that calculates the length of string entered by the user\n"
     ]
    }
   ],
   "source": [
    "print(length.__doc__)"
   ]
  },
  {
   "cell_type": "markdown",
   "id": "a9fd5b86",
   "metadata": {},
   "source": [
    "c\n"
   ]
  },
  {
   "cell_type": "code",
   "execution_count": 8,
   "id": "42a8bdd3",
   "metadata": {},
   "outputs": [
    {
     "name": "stdin",
     "output_type": "stream",
     "text": [
      "input any character:  y\n"
     ]
    },
    {
     "name": "stdout",
     "output_type": "stream",
     "text": [
      "the character is not vowel\n"
     ]
    }
   ],
   "source": [
    "def vowels(s):\n",
    "    \"\"\" The function that checks whether the character that is entered by the user is a vowel or not \"\"\"\n",
    "    vwls=\"aiuoe\"\n",
    "    i=0\n",
    "    if char in vwls:\n",
    "        print(\"the character is vowel\")\n",
    "    else:\n",
    "        print(\"the character is not vowel\")\n",
    "        \n",
    "char=input(\"input any character: \")        \n",
    "vowels(char)        \n",
    "        "
   ]
  },
  {
   "cell_type": "code",
   "execution_count": 9,
   "id": "5ac914a1-525a-4d17-8111-a91b5ec5d92a",
   "metadata": {},
   "outputs": [
    {
     "name": "stdout",
     "output_type": "stream",
     "text": [
      " The function that checks whether the character that is entered by the user is a vowel or not \n"
     ]
    }
   ],
   "source": [
    "print(vowels.__doc__)"
   ]
  },
  {
   "cell_type": "markdown",
   "id": "9d074d22",
   "metadata": {},
   "source": [
    "Write a function encode() that converts a string into “rövarspråket” (robber’s language) by doubling consonants and placing “o” in between, e.g., “hello” -> “hohelollolo”.\n",
    "\n"
   ]
  },
  {
   "cell_type": "code",
   "execution_count": null,
   "id": "4e595a60",
   "metadata": {},
   "outputs": [],
   "source": []
  },
  {
   "cell_type": "code",
   "execution_count": 11,
   "id": "0053c8d4",
   "metadata": {},
   "outputs": [
    {
     "name": "stdin",
     "output_type": "stream",
     "text": [
      "Enter any string :  hello\n"
     ]
    },
    {
     "data": {
      "text/plain": [
       "'hohelollolo'"
      ]
     },
     "execution_count": 11,
     "metadata": {},
     "output_type": "execute_result"
    }
   ],
   "source": [
    "def encode(string):\n",
    "    \"\"\" Function encode() that converts a string into (robber’s language) by doubling consonants and placing “o” in between.\n",
    "    User must enter any word\n",
    "\n",
    "\"\"\"\n",
    "    vowels = \"aeiouAEIOU\"\n",
    "    result = \"\"\n",
    "    \n",
    "    for char in string:\n",
    "        if char.isalpha() and char not in vowels:\n",
    "            result += char + 'o' + char\n",
    "        else:\n",
    "            result += char\n",
    "    \n",
    "    return result\n",
    "get_user=input(\"Enter any string : \")\n",
    "encode(get_user)"
   ]
  },
  {
   "cell_type": "code",
   "execution_count": 12,
   "id": "4d08a37f-5ad1-40f1-9471-fd2a9687a6c5",
   "metadata": {},
   "outputs": [
    {
     "name": "stdout",
     "output_type": "stream",
     "text": [
      " Function encode() that converts a string into (robber’s language) by doubling consonants and placing “o” in between\n",
      "\n",
      "\n"
     ]
    }
   ],
   "source": [
    "print(encode.__doc__)"
   ]
  },
  {
   "cell_type": "markdown",
   "id": "8aa02892",
   "metadata": {},
   "source": [
    "Create sum_elements() and product_elements() functions to sum and multiply all elements in a list, respectively.\n"
   ]
  },
  {
   "cell_type": "code",
   "execution_count": 34,
   "id": "2a5e4401",
   "metadata": {},
   "outputs": [
    {
     "name": "stdin",
     "output_type": "stream",
     "text": [
      "Enter list and add space between items :  1243\n",
      "Enter list and add space between items :  1 2 4 3\n"
     ]
    },
    {
     "name": "stdout",
     "output_type": "stream",
     "text": [
      "The sum is :  10.0\n",
      "The product is :  24.0\n"
     ]
    }
   ],
   "source": [
    "def sum_elements(lst):\n",
    "    \"\"\"The function product_elements() creates sum of all elements in a list.User will enter the elements in a list\"\"\"\n",
    "    lst=lst.split(\" \")\n",
    "    total = 0\n",
    "    for num in lst:\n",
    "        total=total+float(num)\n",
    "    print(\"The sum is : \",total)\n",
    "\n",
    "def product_elements(listp):\n",
    "    \"\"\"The function  product_elements()  multiply all elements in a list.User will enter the elements in a list\n",
    "\"\"\"\n",
    "    listp=listp.split(\" \")\n",
    "    product = 1\n",
    "    for nump in listp:\n",
    "        product=product*float(nump)\n",
    "    print(\"The product is : \",product)\n",
    "get_my_list=input(\"Enter list and add space between items : \")\n",
    "while True:\n",
    "    if(\" \" in get_my_list):\n",
    "        sum_elements(get_my_list)\n",
    "        product_elements(get_my_list)\n",
    "        break\n",
    "    else:\n",
    "       get_my_list=input(\"Enter list and add space between items : \")\n"
   ]
  },
  {
   "cell_type": "code",
   "execution_count": 36,
   "id": "b708b83a-705d-41a4-ba46-4613779e1990",
   "metadata": {},
   "outputs": [
    {
     "name": "stdout",
     "output_type": "stream",
     "text": [
      "The function product_elements() creates sum of all elements in a list.User will enter the elements in a list\n"
     ]
    }
   ],
   "source": [
    "print(sum_elements.__doc__)"
   ]
  },
  {
   "cell_type": "code",
   "execution_count": 35,
   "id": "88e3ba28-f70b-487c-bfb7-3e858e36c71d",
   "metadata": {},
   "outputs": [
    {
     "name": "stdout",
     "output_type": "stream",
     "text": [
      "The function  product_elements()  multiply all elements in a list.User will enter the elements in a list\n",
      "\n"
     ]
    }
   ],
   "source": [
    "print(product_elements.__doc__)"
   ]
  },
  {
   "cell_type": "code",
   "execution_count": 37,
   "id": "079d1cae",
   "metadata": {},
   "outputs": [
    {
     "name": "stdout",
     "output_type": "stream",
     "text": [
      "olleh\n"
     ]
    }
   ],
   "source": [
    "def reverse_string(s):\n",
    "    \"\"\"Function reverse_string() reverse the characters in a given string.\"\"\"\n",
    "\n",
    "\n",
    "    return s[::-1]\n",
    "\n",
    "reversed_string = reverse_string(\"hello\")\n",
    "print(reversed_string) \n"
   ]
  },
  {
   "cell_type": "code",
   "execution_count": 38,
   "id": "19d7f769-b031-4248-9a85-564710a9d88e",
   "metadata": {},
   "outputs": [
    {
     "name": "stdout",
     "output_type": "stream",
     "text": [
      "Function reverse_string() reverses the characters in a given string.\n"
     ]
    }
   ],
   "source": [
    "print(reverse_string.__doc__)"
   ]
  },
  {
   "cell_type": "code",
   "execution_count": null,
   "id": "87103629",
   "metadata": {},
   "outputs": [],
   "source": [
    "Implement check_palindrome() to verify if a string reads the same forwards and backwards, i.e. is a palindrome.\n",
    "\n"
   ]
  },
  {
   "cell_type": "code",
   "execution_count": 39,
   "id": "aa3e51fb",
   "metadata": {},
   "outputs": [
    {
     "name": "stdout",
     "output_type": "stream",
     "text": [
      "True\n",
      "True\n",
      "False\n",
      "True\n"
     ]
    }
   ],
   "source": [
    "def check_palindrome(s):\n",
    "    \"\"\"A function check_palindrome() that verifies whether a string reads the same forwards and backwards.\n",
    "\n",
    "\"\"\"\n",
    "    normalized_s = ''.join(s.lower().split())\n",
    "    \n",
    "    return normalized_s == normalized_s[::-1]\n",
    "\n",
    "print(check_palindrome(\"madam\"))         \n",
    "print(check_palindrome(\"racecar\"))       \n",
    "print(check_palindrome(\"hello\"))         \n",
    "print(check_palindrome(\"A man a plan a canal Panama\"))  "
   ]
  },
  {
   "cell_type": "code",
   "execution_count": 40,
   "id": "a3e58a4c-14ce-473e-b3f0-debf0570411c",
   "metadata": {},
   "outputs": [
    {
     "name": "stdout",
     "output_type": "stream",
     "text": [
      "A function check_palindrome() that verifies whether a string reads the same forwards and backwards.\n",
      "\n",
      "\n"
     ]
    }
   ],
   "source": [
    "print(check_palindrome.__doc__)"
   ]
  },
  {
   "cell_type": "code",
   "execution_count": 41,
   "id": "54113662",
   "metadata": {},
   "outputs": [
    {
     "name": "stdout",
     "output_type": "stream",
     "text": [
      "True\n",
      "False\n"
     ]
    }
   ],
   "source": [
    "def check_membership(lst, value):\n",
    "    \"\"\"A function check_membership() determines if a value exists within a list.\n",
    "\n",
    "\"\"\"\n",
    "    return value in lst\n",
    "\n",
    "numbers = [1, 2, 3, 4, 5]\n",
    "print(check_membership(numbers, 3))  \n",
    "print(check_membership(numbers, 6))  \n"
   ]
  },
  {
   "cell_type": "code",
   "execution_count": null,
   "id": "bdecfd7b",
   "metadata": {},
   "outputs": [],
   "source": [
    "Write check_overlap() to identify if two lists share any elements.\n"
   ]
  }
 ],
 "metadata": {
  "kernelspec": {
   "display_name": "Python 3 (ipykernel)",
   "language": "python",
   "name": "python3"
  },
  "language_info": {
   "codemirror_mode": {
    "name": "ipython",
    "version": 3
   },
   "file_extension": ".py",
   "mimetype": "text/x-python",
   "name": "python",
   "nbconvert_exporter": "python",
   "pygments_lexer": "ipython3",
   "version": "3.12.6"
  }
 },
 "nbformat": 4,
 "nbformat_minor": 5
}
