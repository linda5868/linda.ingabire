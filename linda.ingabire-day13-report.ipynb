{
 "cells": [
  {
   "cell_type": "markdown",
   "id": "057f4d1d-4c98-4052-9467-d719149c0e61",
   "metadata": {},
   "source": [
    "Q1.\n",
    "By definition, a natural number is called a perfect number if its value is equal to the sum of its divisors. For example, 6 and 28 are perfect numbers:\n",
    "\n",
    "1 + 2 + 3 = 6\n",
    "1 + 2 + 4 + 7 + 14 = 28\n",
    "Write a function calc_perfect_numbers(max_exclusive) that calculates all perfect numbers up to a maximum value, such as 10,000."
   ]
  },
  {
   "cell_type": "code",
   "execution_count": 10,
   "id": "b098597d-bbf3-48d2-afbe-d918bccb1725",
   "metadata": {},
   "outputs": [
    {
     "name": "stdout",
     "output_type": "stream",
     "text": [
      "6 is a perfect number\n",
      "28 is a perfect number\n",
      "496 is a perfect number\n",
      "8128 is a perfect number\n"
     ]
    }
   ],
   "source": [
    "def calc_perfect_numbers(max_exclusive):\n",
    "    for num in range(2, max_exclusive):\n",
    "        divisors_sum = 0\n",
    "        for i in range(1, num):\n",
    "            if num % i == 0:\n",
    "                divisors_sum += i\n",
    "        \n",
    "        if divisors_sum == num:\n",
    "            print(f\"{num} is a perfect number\")\n",
    "\n",
    "max_exclusive = 10000\n",
    "calc_perfect_numbers(max_exclusive)"
   ]
  },
  {
   "cell_type": "markdown",
   "id": "0a150886-c171-41b8-a149-a4220c382df5",
   "metadata": {},
   "source": [
    "Q2.Write a function calc_primes_up_to(max_value) to compute all prime numbers up to a given value. A prime number is a natural number greater than 1 that is only divisible by 1 and itself. The Sieve of Eratosthenes is a useful algorithm for this task.\n",
    "Test your algorithm with the following values:"
   ]
  },
  {
   "cell_type": "code",
   "execution_count": 34,
   "id": "748970f5-6da2-44c1-8643-7a32f9d7417b",
   "metadata": {},
   "outputs": [
    {
     "name": "stdout",
     "output_type": "stream",
     "text": [
      "Prime numbers up to 100: [2, 3, 5, 7, 11, 13, 17, 19, 23, 29, 31, 37, 41, 43, 47, 53, 59, 61, 67, 71, 73, 79, 83, 89, 97]\n"
     ]
    }
   ],
   "source": [
    "def calc_primes_up_to(max_value):\n",
    "    prime_num=[]\n",
    "    for num in range (2, max_value + 1):\n",
    "        is_prime = True\n",
    "        for i in range (2,num):\n",
    "            if num % i==0:\n",
    "                is_prime = False\n",
    "                break\n",
    "        if is_prime:\n",
    "            prime_num.append(num)\n",
    "    return prime_num       \n",
    "        \n",
    "max_value=100 \n",
    "prime_numbers=calc_primes_up_to(max_value) \n",
    "print(f\"Prime numbers up to {max_value}: {prime_numbers}\")\n"
   ]
  },
  {
   "cell_type": "code",
   "execution_count": null,
   "id": "09436d35-e89a-46a8-ba6d-9930f57d2c3d",
   "metadata": {},
   "outputs": [],
   "source": [
    "Q5."
   ]
  },
  {
   "cell_type": "code",
   "execution_count": 35,
   "id": "9eea016a-2bc6-4ce4-aaed-3619974f4158",
   "metadata": {},
   "outputs": [
    {
     "name": "stdout",
     "output_type": "stream",
     "text": [
      "1010\n"
     ]
    }
   ],
   "source": [
    "def to_binary(n):\n",
    "    if n == 0:\n",
    "        return 0\n",
    "    else:\n",
    "        return (n % 2 + 10 * to_binary(int(n // 2)))\n",
    "\n",
    "n = 10\n",
    "print(to_binary(n))    "
   ]
  }
 ],
 "metadata": {
  "kernelspec": {
   "display_name": "Python 3 (ipykernel)",
   "language": "python",
   "name": "python3"
  },
  "language_info": {
   "codemirror_mode": {
    "name": "ipython",
    "version": 3
   },
   "file_extension": ".py",
   "mimetype": "text/x-python",
   "name": "python",
   "nbconvert_exporter": "python",
   "pygments_lexer": "ipython3",
   "version": "3.12.6"
  }
 },
 "nbformat": 4,
 "nbformat_minor": 5
}
