{
 "cells": [
  {
   "cell_type": "markdown",
   "id": "946dcae8",
   "metadata": {},
   "source": [
    "# Practical_6: Numpy"
   ]
  },
  {
   "cell_type": "code",
   "execution_count": 103,
   "id": "1bdb9e5b-71e3-4a2d-a3f5-2374b82b4ee7",
   "metadata": {},
   "outputs": [],
   "source": [
    "import numpy as np"
   ]
  },
  {
   "cell_type": "raw",
   "id": "d612e062",
   "metadata": {},
   "source": [
    "---\n",
    "\n",
    "### Exercise 1:\n",
    "Create a NumPy array of integers from 1 to 10."
   ]
  },
  {
   "cell_type": "code",
   "execution_count": 104,
   "id": "af2346a1",
   "metadata": {},
   "outputs": [
    {
     "data": {
      "text/plain": [
       "array([ 1,  2,  3,  4,  5,  6,  7,  8,  9, 10])"
      ]
     },
     "execution_count": 104,
     "metadata": {},
     "output_type": "execute_result"
    }
   ],
   "source": [
    " \n",
    "x=np.arange(1,11)\n",
    "x"
   ]
  },
  {
   "cell_type": "code",
   "execution_count": null,
   "id": "a5dda538",
   "metadata": {},
   "outputs": [],
   "source": [
    "### Exercise 2:\n",
    "Create a 3x3 NumPy array filled with zeros."
   ]
  },
  {
   "cell_type": "code",
   "execution_count": 106,
   "id": "cb0ed462",
   "metadata": {},
   "outputs": [
    {
     "data": {
      "text/plain": [
       "array([[0, 0, 0],\n",
       "       [0, 0, 0],\n",
       "       [0, 0, 0]])"
      ]
     },
     "execution_count": 106,
     "metadata": {},
     "output_type": "execute_result"
    }
   ],
   "source": [
    "A=np.zeros((3,3))\n",
    "A.astype(int)"
   ]
  },
  {
   "cell_type": "code",
   "execution_count": null,
   "id": "86f0ade8",
   "metadata": {},
   "outputs": [],
   "source": [
    "### Exercise 3:\n",
    "Create a NumPy array of 10 evenly spaced numbers between 0 and 5."
   ]
  },
  {
   "cell_type": "code",
   "execution_count": 87,
   "id": "a8bc6633",
   "metadata": {},
   "outputs": [
    {
     "name": "stdout",
     "output_type": "stream",
     "text": [
      "[0.         0.55555556 1.11111111 1.66666667 2.22222222 2.77777778\n",
      " 3.33333333 3.88888889 4.44444444 5.        ]\n"
     ]
    }
   ],
   "source": [
    "E = np.linspace(0, 5, 10,endpoint='false')\n",
    "print(E)\n"
   ]
  },
  {
   "cell_type": "code",
   "execution_count": null,
   "id": "fe750759",
   "metadata": {},
   "outputs": [],
   "source": [
    "### Exercise 4:\n",
    "Create a 5x5 identity matrix using NumPy."
   ]
  },
  {
   "cell_type": "code",
   "execution_count": 86,
   "id": "887f4f74",
   "metadata": {},
   "outputs": [
    {
     "name": "stdout",
     "output_type": "stream",
     "text": [
      "[[1. 0. 0. 0. 0.]\n",
      " [0. 1. 0. 0. 0.]\n",
      " [0. 0. 1. 0. 0.]\n",
      " [0. 0. 0. 1. 0.]\n",
      " [0. 0. 0. 0. 1.]]\n"
     ]
    }
   ],
   "source": [
    "identity_matrix = np.eye(5)\n",
    "print(identity_matrix)\n"
   ]
  },
  {
   "cell_type": "code",
   "execution_count": null,
   "id": "22beb69c",
   "metadata": {},
   "outputs": [],
   "source": [
    "### Exercise 5:\n",
    "Create a 4x4 matrix with random values between 0 and 1."
   ]
  },
  {
   "cell_type": "code",
   "execution_count": 37,
   "id": "03fa9c8e",
   "metadata": {},
   "outputs": [
    {
     "name": "stdout",
     "output_type": "stream",
     "text": [
      "[[0.49323925 0.41445757 0.30175037 0.13392206]\n",
      " [0.43488161 0.81491831 0.00967832 0.6686913 ]\n",
      " [0.9539635  0.84237314 0.76398778 0.0553132 ]\n",
      " [0.64179102 0.3721295  0.21546568 0.66522535]]\n"
     ]
    }
   ],
   "source": [
    "matrix = np.random.rand(4, 4)\n",
    "print(matrix)\n"
   ]
  },
  {
   "cell_type": "code",
   "execution_count": 89,
   "id": "d5b5d015",
   "metadata": {},
   "outputs": [],
   "source": [
    "T=np.random.seed(0)\n",
    "T"
   ]
  },
  {
   "cell_type": "code",
   "execution_count": null,
   "id": "26f9034f",
   "metadata": {},
   "outputs": [],
   "source": []
  },
  {
   "cell_type": "code",
   "execution_count": 90,
   "id": "982322b8",
   "metadata": {},
   "outputs": [
    {
     "name": "stdout",
     "output_type": "stream",
     "text": [
      "[[0.5488135  0.71518937 0.60276338 0.54488318]\n",
      " [0.4236548  0.64589411 0.43758721 0.891773  ]\n",
      " [0.96366276 0.38344152 0.79172504 0.52889492]\n",
      " [0.56804456 0.92559664 0.07103606 0.0871293 ]]\n"
     ]
    }
   ],
   "source": [
    "matrix = np.random.rand(4, 4)\n",
    "print(matrix)\n"
   ]
  },
  {
   "cell_type": "code",
   "execution_count": 91,
   "id": "1df91406",
   "metadata": {},
   "outputs": [],
   "source": [
    "T=np.random.seed(10)\n",
    "T"
   ]
  },
  {
   "cell_type": "code",
   "execution_count": 44,
   "id": "49662239",
   "metadata": {},
   "outputs": [
    {
     "name": "stdout",
     "output_type": "stream",
     "text": [
      "[[0.77132064 0.02075195 0.63364823 0.74880388]\n",
      " [0.49850701 0.22479665 0.19806286 0.76053071]\n",
      " [0.16911084 0.08833981 0.68535982 0.95339335]\n",
      " [0.00394827 0.51219226 0.81262096 0.61252607]]\n"
     ]
    }
   ],
   "source": [
    "\n",
    "matrix = np.random.rand(4, 4)\n",
    "print(matrix)\n"
   ]
  },
  {
   "cell_type": "code",
   "execution_count": null,
   "id": "3ec8aca0",
   "metadata": {},
   "outputs": [],
   "source": [
    "### Exercise 6:\n",
    "Find the shape of a NumPy array."
   ]
  },
  {
   "cell_type": "code",
   "execution_count": 54,
   "id": "ab01c534",
   "metadata": {},
   "outputs": [
    {
     "name": "stdout",
     "output_type": "stream",
     "text": [
      "[ 0  1  2  3  4  5  6  7  8  9 10 11 12 13 14 15]\n",
      "[[ 0  1  2  3]\n",
      " [ 4  5  6  7]\n",
      " [ 8  9 10 11]\n",
      " [12 13 14 15]]\n"
     ]
    }
   ],
   "source": [
    "W=np.arange(16)\n",
    "print(W)\n",
    "W=W.reshape(4,4)\n",
    "print(W)\n"
   ]
  },
  {
   "cell_type": "code",
   "execution_count": null,
   "id": "60076fdb",
   "metadata": {},
   "outputs": [],
   "source": [
    "### Exercise 7:\n",
    "Reshape a 1D NumPy array of 16 elements into a 4x4 matrix."
   ]
  },
  {
   "cell_type": "code",
   "execution_count": 57,
   "id": "e226ac29",
   "metadata": {},
   "outputs": [
    {
     "data": {
      "text/plain": [
       "array([ 1,  2,  3,  4,  5,  6,  7,  8,  9, 10, 11, 12, 13, 14, 15, 16, 17,\n",
       "       18, 19, 20, 21, 22, 23, 24, 25, 26, 27, 28, 29, 30, 31, 32, 33, 34,\n",
       "       35, 36, 37, 38, 39, 40, 41, 42, 43, 44, 45, 46, 47, 48, 49, 50, 51,\n",
       "       52, 53, 54, 55, 56, 57, 58, 59, 60, 61, 62, 63, 64, 65, 66, 67, 68,\n",
       "       69, 70, 71, 72, 73, 74, 75, 76, 77, 78, 79, 80, 81, 82, 83, 84, 85,\n",
       "       86, 87, 88, 89, 90, 91, 92, 93, 94, 95, 96, 97, 98, 99])"
      ]
     },
     "execution_count": 57,
     "metadata": {},
     "output_type": "execute_result"
    }
   ],
   "source": [
    "E=np.arange(1,100,1)\n",
    "E"
   ]
  },
  {
   "cell_type": "code",
   "execution_count": null,
   "id": "c5a42c79",
   "metadata": {},
   "outputs": [],
   "source": [
    "### Exercise 8:\n",
    "Find the data type of the elements in a NumPy array."
   ]
  },
  {
   "cell_type": "code",
   "execution_count": null,
   "id": "52ee4977",
   "metadata": {},
   "outputs": [],
   "source": [
    "### Exercise 9:\n",
    "Create a NumPy array of integers from 1 to 100 and find all even numbers in the array."
   ]
  },
  {
   "cell_type": "code",
   "execution_count": 60,
   "id": "994e080c",
   "metadata": {},
   "outputs": [
    {
     "data": {
      "text/plain": [
       "array([  2,   4,   6,   8,  10,  12,  14,  16,  18,  20,  22,  24,  26,\n",
       "        28,  30,  32,  34,  36,  38,  40,  42,  44,  46,  48,  50,  52,\n",
       "        54,  56,  58,  60,  62,  64,  66,  68,  70,  72,  74,  76,  78,\n",
       "        80,  82,  84,  86,  88,  90,  92,  94,  96,  98, 100])"
      ]
     },
     "execution_count": 60,
     "metadata": {},
     "output_type": "execute_result"
    }
   ],
   "source": [
    "E=np.arange(2,101,2)\n",
    "E"
   ]
  },
  {
   "cell_type": "code",
   "execution_count": null,
   "id": "cae347a7",
   "metadata": {},
   "outputs": [],
   "source": [
    "### Exercise 10:\n",
    "Generate a 6x6 matrix of random integers between 10 and 50."
   ]
  },
  {
   "cell_type": "code",
   "execution_count": 61,
   "id": "9b0f1fb6",
   "metadata": {},
   "outputs": [
    {
     "data": {
      "text/plain": [
       "array([[18, 46, 24, 23, 15, 23],\n",
       "       [35, 23, 38, 32, 40, 40],\n",
       "       [35, 22, 11, 41, 46, 37],\n",
       "       [28, 39, 23, 32, 33, 40],\n",
       "       [21, 38, 20, 34, 19, 25],\n",
       "       [28, 26, 17, 34, 21, 27]])"
      ]
     },
     "execution_count": 61,
     "metadata": {},
     "output_type": "execute_result"
    }
   ],
   "source": [
    "E=np.random.randint(10,50, (6,6))\n",
    "E"
   ]
  },
  {
   "cell_type": "code",
   "execution_count": null,
   "id": "53370260",
   "metadata": {},
   "outputs": [],
   "source": [
    "### Exercise 11:\n",
    "Slice a 2D NumPy array to extract a submatrix."
   ]
  },
  {
   "cell_type": "code",
   "execution_count": 105,
   "id": "8a3bd485",
   "metadata": {},
   "outputs": [
    {
     "name": "stdout",
     "output_type": "stream",
     "text": [
      "[[1 2]]\n"
     ]
    }
   ],
   "source": [
    "\n",
    "arr = np.array([[1,2,3],[4,5,6]])\n",
    "\n",
    "submatrix = arr[0:1, 0:2]\n",
    "\n",
    "print(submatrix)\n"
   ]
  },
  {
   "cell_type": "code",
   "execution_count": null,
   "id": "e70c3e26",
   "metadata": {},
   "outputs": [],
   "source": [
    "### Exercise 12:\n",
    "Calculate the sum of all elements in a NumPy array."
   ]
  },
  {
   "cell_type": "code",
   "execution_count": 64,
   "id": "5d192489",
   "metadata": {},
   "outputs": [
    {
     "name": "stdout",
     "output_type": "stream",
     "text": [
      "Sum of all elements: 15\n"
     ]
    }
   ],
   "source": [
    "\n",
    "MA = np.array([1, 2, 3, 4, 5])\n",
    "sum1 = np.sum(MA)\n",
    "\n",
    "print(\"Sum of all elements:\", sum1)\n",
    "  "
   ]
  },
  {
   "cell_type": "code",
   "execution_count": null,
   "id": "30ae28ae",
   "metadata": {},
   "outputs": [],
   "source": [
    "### Exercise 13:\n",
    "Calculate the mean, median, and standard deviation of a NumPy array.\n"
   ]
  },
  {
   "cell_type": "code",
   "execution_count": 80,
   "id": "73b307ea",
   "metadata": {},
   "outputs": [
    {
     "name": "stdout",
     "output_type": "stream",
     "text": [
      "1.4142135623730951\n",
      "3.0\n",
      "3.0\n"
     ]
    }
   ],
   "source": [
    "\n",
    "Median=np.median(MA)\n",
    "mean=np.mean(MA)\n",
    "standard=np.std(MA)\n",
    "print(standard)\n",
    "print(Median)\n",
    "print(mean)"
   ]
  },
  {
   "cell_type": "code",
   "execution_count": null,
   "id": "a227f1d5",
   "metadata": {},
   "outputs": [],
   "source": [
    "### Exercise 14:\n",
    "Find the maximum and minimum values in a NumPy array."
   ]
  },
  {
   "cell_type": "code",
   "execution_count": 83,
   "id": "96532e30",
   "metadata": {},
   "outputs": [
    {
     "name": "stdout",
     "output_type": "stream",
     "text": [
      "1\n",
      "5\n"
     ]
    }
   ],
   "source": [
    "maximum=np.max(MA)\n",
    "minimum=np.min(MA)\n",
    "print(minimum)\n",
    "print(maximum)"
   ]
  },
  {
   "cell_type": "code",
   "execution_count": null,
   "id": "948ab96a",
   "metadata": {},
   "outputs": [],
   "source": [
    "### Exercise 15:\n",
    "Create a NumPy array of 20 random integers and find the index of the maximum value."
   ]
  },
  {
   "cell_type": "code",
   "execution_count": 100,
   "id": "1e652f4c",
   "metadata": {},
   "outputs": [
    {
     "name": "stdout",
     "output_type": "stream",
     "text": [
      "[ 1  2  3  4  5  6  7  8  9 10 11 12 13 14 15 16 17 18 19]\n",
      "(array([18], dtype=int64),)\n"
     ]
    }
   ],
   "source": [
    "M2=np.arange(1,20,1)\n",
    "print(M2)\n",
    "maxx=np.where(M2==max(M2))\n",
    "print(maxx)"
   ]
  },
  {
   "cell_type": "code",
   "execution_count": 103,
   "id": "5279f243",
   "metadata": {},
   "outputs": [
    {
     "data": {
      "text/plain": [
       "18"
      ]
     },
     "execution_count": 103,
     "metadata": {},
     "output_type": "execute_result"
    }
   ],
   "source": [
    "np.argmax(M2)"
   ]
  },
  {
   "cell_type": "code",
   "execution_count": null,
   "id": "c5cb5c30",
   "metadata": {},
   "outputs": [],
   "source": [
    "### Exercise 16:\n",
    "Create a NumPy array and reverse its elements."
   ]
  },
  {
   "cell_type": "code",
   "execution_count": 107,
   "id": "1d76e89f",
   "metadata": {},
   "outputs": [
    {
     "data": {
      "text/plain": [
       "array([19, 18, 17, 16, 15, 14, 13, 12, 11, 10,  9,  8,  7,  6,  5,  4,  3,\n",
       "        2,  1])"
      ]
     },
     "execution_count": 107,
     "metadata": {},
     "output_type": "execute_result"
    }
   ],
   "source": [
    "K=np.flip(M2)\n",
    "K"
   ]
  },
  {
   "cell_type": "code",
   "execution_count": null,
   "id": "f8abc310",
   "metadata": {},
   "outputs": [],
   "source": [
    "### Exercise 17:\n",
    "Create a 3x3 matrix and multiply it element-wise by another 3x3 matrix."
   ]
  },
  {
   "cell_type": "code",
   "execution_count": 114,
   "id": "7c40fabc",
   "metadata": {},
   "outputs": [
    {
     "data": {
      "text/plain": [
       "array([[ 0,  1,  4],\n",
       "       [ 9, 16, 25],\n",
       "       [36, 49, 64]])"
      ]
     },
     "execution_count": 114,
     "metadata": {},
     "output_type": "execute_result"
    }
   ],
   "source": [
    "M3=np.arange(9).reshape(3,3)\n",
    "M4=np.arange(9).reshape(3,3)\n",
    "prod=M3*M4\n",
    "prod"
   ]
  },
  {
   "cell_type": "code",
   "execution_count": null,
   "id": "417dc5d0",
   "metadata": {},
   "outputs": [],
   "source": [
    "### Exercise 18:\n",
    "Create a diagonal matrix from a given 1D array."
   ]
  },
  {
   "cell_type": "code",
   "execution_count": 133,
   "id": "3638c93e",
   "metadata": {},
   "outputs": [
    {
     "data": {
      "text/plain": [
       "array([[1., 0.],\n",
       "       [0., 1.]])"
      ]
     },
     "execution_count": 133,
     "metadata": {},
     "output_type": "execute_result"
    }
   ],
   "source": [
    "D1=np.arange(3)\n",
    "D1=np.eye(2)\n",
    "D1"
   ]
  },
  {
   "cell_type": "code",
   "execution_count": null,
   "id": "f94f8aab",
   "metadata": {},
   "outputs": [],
   "source": [
    "### Exercise 19:\n",
    "Perform matrix multiplication on two 2D NumPy arrays."
   ]
  },
  {
   "cell_type": "code",
   "execution_count": 134,
   "id": "2ae3ce9c",
   "metadata": {},
   "outputs": [
    {
     "data": {
      "text/plain": [
       "array([[0, 1],\n",
       "       [4, 9]])"
      ]
     },
     "execution_count": 134,
     "metadata": {},
     "output_type": "execute_result"
    }
   ],
   "source": [
    "X2=np.arange(4).reshape(2,2)\n",
    "X3=np.arange(4).reshape(2,2)\n",
    "P=X2*X3\n",
    "P"
   ]
  },
  {
   "cell_type": "code",
   "execution_count": null,
   "id": "89f7b17b",
   "metadata": {},
   "outputs": [],
   "source": [
    "### Exercise 20:\n",
    "Flatten a 2D NumPy array into a 1D array."
   ]
  },
  {
   "cell_type": "code",
   "execution_count": 135,
   "id": "fb565d30",
   "metadata": {},
   "outputs": [
    {
     "name": "stdout",
     "output_type": "stream",
     "text": [
      "[1 2 3 4 5 6]\n"
     ]
    }
   ],
   "source": [
    "D2 = np.array([[1, 2, 3], [4, 5, 6]])\n",
    "\n",
    "FD = D2.flatten()\n",
    "\n",
    "print(FD)\n"
   ]
  },
  {
   "cell_type": "code",
   "execution_count": null,
   "id": "0863e11a",
   "metadata": {},
   "outputs": [],
   "source": [
    "### Exercise 21:\n",
    "Stack two NumPy arrays vertically."
   ]
  },
  {
   "cell_type": "code",
   "execution_count": 101,
   "id": "c3c0f381",
   "metadata": {},
   "outputs": [
    {
     "name": "stdout",
     "output_type": "stream",
     "text": [
      "[[ 1  2  3]\n",
      " [ 4  5  6]\n",
      " [ 7  8  9]\n",
      " [10 11 12]]\n"
     ]
    }
   ],
   "source": [
    "array1 = np.array([[1, 2, 3], [4, 5, 6]])\n",
    "array2 = np.array([[7, 8, 9], [10, 11, 12]])\n",
    "stacked_array = np.vstack((array1, array2))\n",
    "\n",
    "print(stacked_array)\n"
   ]
  },
  {
   "cell_type": "code",
   "execution_count": null,
   "id": "7149ce5b-6044-45eb-85e7-40571b76e3ce",
   "metadata": {},
   "outputs": [],
   "source": [
    "### Exercise 22:\n",
    "Stack two NumPy arrays horizontally."
   ]
  },
  {
   "cell_type": "code",
   "execution_count": 100,
   "id": "ad7121f6-121a-48e2-be70-d4b4c89c158f",
   "metadata": {},
   "outputs": [
    {
     "name": "stdout",
     "output_type": "stream",
     "text": [
      "[[ 1  2  3  7  8  9]\n",
      " [ 4  5  6 10 11 12]]\n"
     ]
    }
   ],
   "source": [
    "array1 = np.array([[1, 2, 3], [4, 5, 6]])\n",
    "array2 = np.array([[7, 8, 9], [10, 11, 12]])\n",
    "stacked_array = np.hstack((array1, array2))\n",
    "\n",
    "print(stacked_array)\n"
   ]
  },
  {
   "cell_type": "code",
   "execution_count": null,
   "id": "86bfe6d3-4ff9-4a83-8719-c8e4f82ba05c",
   "metadata": {},
   "outputs": [],
   "source": [
    "### Exercise 23:\n",
    "Split a NumPy array into multiple sub-arrays."
   ]
  },
  {
   "cell_type": "code",
   "execution_count": 99,
   "id": "19e6949c-b8de-4912-8f31-3868d4a9e3cf",
   "metadata": {},
   "outputs": [
    {
     "name": "stdout",
     "output_type": "stream",
     "text": [
      "[array([1, 2, 3]), array([4, 5, 6]), array([7, 8, 9])]\n"
     ]
    }
   ],
   "source": [
    "A=np.array([1,2,3,4,5,6,7,8,9])\n",
    "Split_A =np.split(A,3)\n",
    "print(Split_A)"
   ]
  },
  {
   "cell_type": "code",
   "execution_count": null,
   "id": "c5630e5a-db52-4d48-bb84-0e8a6b7c8570",
   "metadata": {},
   "outputs": [],
   "source": [
    "### Exercise 24:\n",
    "Generate a random NumPy array and round each element to two decimal places."
   ]
  },
  {
   "cell_type": "code",
   "execution_count": 98,
   "id": "9c4b5a1e-7070-4f08-99bc-496aa9444692",
   "metadata": {},
   "outputs": [
    {
     "name": "stdout",
     "output_type": "stream",
     "text": [
      "[[0.   0.51 0.81 0.61]\n",
      " [0.72 0.29 0.92 0.71]\n",
      " [0.54 0.14 0.37 0.67]]\n"
     ]
    }
   ],
   "source": [
    "random_array = np.random.rand(3, 4) \n",
    "\n",
    "# Round each element to two decimal places\n",
    "rounded_array = np.round(random_array, 2)\n",
    "\n",
    "print(rounded_array)\n"
   ]
  },
  {
   "cell_type": "code",
   "execution_count": null,
   "id": "c00c69a6-8cde-4573-9296-7a7533a7b250",
   "metadata": {},
   "outputs": [],
   "source": [
    "### Exercise 25:\n",
    "Find the unique elements of a NumPy array."
   ]
  },
  {
   "cell_type": "code",
   "execution_count": 8,
   "id": "9c1269ec-835b-4000-a8d5-3868a9774a9b",
   "metadata": {},
   "outputs": [
    {
     "data": {
      "text/plain": [
       "array([1, 2, 3, 4, 5, 6])"
      ]
     },
     "execution_count": 8,
     "metadata": {},
     "output_type": "execute_result"
    }
   ],
   "source": [
    "Elements=np.array([1,2,2,4,4,4,3,3,5,5,6])\n",
    "Unique_values=np.unique(Elements)\n",
    "Unique_values"
   ]
  },
  {
   "cell_type": "code",
   "execution_count": null,
   "id": "41ed68e7-622c-430f-8608-c487272827a3",
   "metadata": {},
   "outputs": [],
   "source": [
    "### Exercise 26:\n",
    "Replace all elements in a NumPy array that are less than a specific value with that value."
   ]
  },
  {
   "cell_type": "code",
   "execution_count": null,
   "id": "bb49f355-fd7e-420d-84b0-04851212cd27",
   "metadata": {},
   "outputs": [],
   "source": []
  },
  {
   "cell_type": "code",
   "execution_count": null,
   "id": "ef8da321-125e-41c3-bad7-f0a336f52a01",
   "metadata": {},
   "outputs": [],
   "source": [
    "### Exercise 27:\n",
    "Find the cumulative sum of the elements in a NumPy array."
   ]
  },
  {
   "cell_type": "code",
   "execution_count": 97,
   "id": "f0fce395-54c1-4877-8da5-bd0efcd4d904",
   "metadata": {},
   "outputs": [
    {
     "name": "stdout",
     "output_type": "stream",
     "text": [
      "[ 1  3  6 10 15 21]\n"
     ]
    }
   ],
   "source": [
    "# Create a NumPy array\n",
    "A = np.array([1, 2, 3, 4, 5, 6])\n",
    "# Find the cumulative sum\n",
    "cumulative_sum = np.cumsum(A)\n",
    "print(cumulative_sum)"
   ]
  },
  {
   "cell_type": "code",
   "execution_count": null,
   "id": "c03bf7f5-d872-4f87-8bd8-c32fbb334f21",
   "metadata": {},
   "outputs": [],
   "source": [
    "### Exercise 28:\n",
    "Create a NumPy array and find the number of non-zero elements in it."
   ]
  },
  {
   "cell_type": "code",
   "execution_count": 96,
   "id": "088b7844-1020-46a3-941e-2040c6b1cfee",
   "metadata": {},
   "outputs": [
    {
     "name": "stdout",
     "output_type": "stream",
     "text": [
      "5\n"
     ]
    }
   ],
   "source": [
    "A1=np.array([1, 0, 2, 4, 0, 6, 0, 7])\n",
    "A2=np.count_nonzero(A1)\n",
    "print(A2) "
   ]
  },
  {
   "cell_type": "code",
   "execution_count": null,
   "id": "4eff7837-ab35-4554-96c4-3e88fd0867ac",
   "metadata": {},
   "outputs": [],
   "source": [
    "### Exercise 29:\n",
    "Create a NumPy array of random integers and sort it in ascending order."
   ]
  },
  {
   "cell_type": "code",
   "execution_count": 22,
   "id": "d7d46bca-9302-4506-b275-fb3c96618dc8",
   "metadata": {},
   "outputs": [
    {
     "name": "stdout",
     "output_type": "stream",
     "text": [
      "[22  8 28 27  6]\n",
      "[ 6  8 22 27 28]\n"
     ]
    }
   ],
   "source": [
    "M1=np.random.randint(1,30,5)\n",
    "print(M1)\n",
    "M2=np.sort(M1)\n",
    "print(M2)"
   ]
  },
  {
   "cell_type": "code",
   "execution_count": null,
   "id": "ad089b86-4676-4c54-b6ab-c74cfe412a63",
   "metadata": {},
   "outputs": [],
   "source": [
    "### Exercise 30:\n",
    "Find the row-wise and column-wise sum of a 3x3 matrix."
   ]
  },
  {
   "cell_type": "code",
   "execution_count": 112,
   "id": "f8c36aeb-5601-4d80-b285-86576e1e4438",
   "metadata": {},
   "outputs": [
    {
     "name": "stdout",
     "output_type": "stream",
     "text": [
      "Matrix:\n",
      "[[1 2 3]\n",
      " [7 8 9]]\n",
      "Row-wise sum: [ 6 24]\n",
      "Column-wise sum: [ 8 10 12]\n"
     ]
    }
   ],
   "source": [
    "# Create a 3x3 matrix\n",
    "matrix = np.array([[1, 2, 3],[7, 8, 9]])\n",
    "\n",
    "# Calculate the row-wise sum \n",
    "row_sum = np.sum(matrix, axis=1)\n",
    "\n",
    "# Calculate the column-wise sum \n",
    "column_sum = np.sum(matrix, axis=0)\n",
    "\n",
    "print(\"Matrix:\")\n",
    "print(matrix)\n",
    "print(\"Row-wise sum:\", row_sum)\n",
    "print(\"Column-wise sum:\", column_sum)\n"
   ]
  },
  {
   "cell_type": "code",
   "execution_count": null,
   "id": "3e55f6f4-e38d-4c40-97c6-073f75f71cc1",
   "metadata": {},
   "outputs": [],
   "source": [
    "### Exercise 31:\n",
    "Generate a 2D NumPy array with random values and normalize it (scale the values between 0 and 1)."
   ]
  },
  {
   "cell_type": "code",
   "execution_count": 111,
   "id": "713bd3ef-50bc-4910-8f7f-7506f7e543b8",
   "metadata": {},
   "outputs": [
    {
     "name": "stdout",
     "output_type": "stream",
     "text": [
      "Random Array:\n",
      "[[80.52231968 52.16471524 90.86488808 31.9236089 ]\n",
      " [ 9.04593493 30.07000566 11.39843619 82.86813263]\n",
      " [ 4.68963194 62.62871483 54.75861559 81.92869957]]\n",
      "Normalized Array:\n",
      "[[0.87998216 0.55091317 1.         0.31603012]\n",
      " [0.05055167 0.29452043 0.0778507  0.90720358]\n",
      " [0.         0.67234013 0.58101346 0.89630215]]\n"
     ]
    }
   ],
   "source": [
    "random_array = np.random.rand(3, 4) * 100  \n",
    "# Normalize the array\n",
    "min_val = random_array.min()\n",
    "max_val = random_array.max()\n",
    "normalized_array = (random_array - min_val) / (max_val - min_val)\n",
    "\n",
    "print(\"Random Array:\",)\n",
    "print(random_array)\n",
    "\n",
    "print(\"Normalized Array:\")\n",
    "print(normalized_array)\n"
   ]
  },
  {
   "cell_type": "code",
   "execution_count": null,
   "id": "63456bf2-c563-4a31-8bab-bd355aef572e",
   "metadata": {},
   "outputs": [],
   "source": [
    "### Exercise 32:\n",
    "Create two NumPy arrays and find the dot product."
   ]
  },
  {
   "cell_type": "code",
   "execution_count": 32,
   "id": "6676da8a-833f-4892-ae4d-e18fb4913e46",
   "metadata": {},
   "outputs": [
    {
     "name": "stdout",
     "output_type": "stream",
     "text": [
      "The product is:  53\n"
     ]
    }
   ],
   "source": [
    "matrix_1=np.array([1, 2, 3, 4, 5])\n",
    "matrix_2=np.array([2, 1, 4, 3, 5])\n",
    "prod=np.dot(matrix_1,matrix_2)\n",
    "#prod=matrix_1 * matrix_2\n",
    "print(\"The product is: \",prod)"
   ]
  },
  {
   "cell_type": "code",
   "execution_count": null,
   "id": "afaa91b3-aea7-4bd3-9eb8-f23935f10b88",
   "metadata": {},
   "outputs": [],
   "source": [
    "### Exercise 33:\n",
    "Find the trace of a square NumPy matrix"
   ]
  },
  {
   "cell_type": "code",
   "execution_count": 110,
   "id": "798d713e-0232-45ee-a149-5e44789bd96f",
   "metadata": {},
   "outputs": [
    {
     "name": "stdout",
     "output_type": "stream",
     "text": [
      "[[1 2 3]\n",
      " [4 5 6]\n",
      " [7 8 9]]\n",
      "Trace of the matrix: 15\n"
     ]
    }
   ],
   "source": [
    "matrix = np.array([[1, 2, 3],\n",
    "                   [4, 5, 6],\n",
    "                   [7, 8, 9]])\n",
    "\n",
    "# Calculate the trace of the matrix\n",
    "trace = np.trace(matrix)\n",
    "print(matrix)\n",
    "print(\"Trace of the matrix:\", trace)\n"
   ]
  },
  {
   "cell_type": "code",
   "execution_count": null,
   "id": "e5f144ae-ca90-40eb-a894-1227eea758c3",
   "metadata": {},
   "outputs": [],
   "source": [
    "### Exercise 34:\n",
    "Create a 2D array and swap two rows."
   ]
  },
  {
   "cell_type": "code",
   "execution_count": 92,
   "id": "4f387d9c-1fe9-4086-ac92-edfca77c3f10",
   "metadata": {},
   "outputs": [
    {
     "name": "stdout",
     "output_type": "stream",
     "text": [
      " swapping array:\n",
      "[[4 5 6]\n",
      " [1 2 3]\n",
      " [7 8 9]]\n"
     ]
    }
   ],
   "source": [
    "# Create a 2D NumPy array\n",
    "array = np.array([[1, 2, 3],\n",
    "                  [4, 5, 6],\n",
    "                  [7, 8, 9]])\n",
    "\n",
    "# Specify the rows to swap\n",
    "row1, row2 = 0, 1\n",
    "\n",
    "# Swap the rows\n",
    "array[[row1, row2]] = array[[row2, row1]]\n",
    "\n",
    "print(\" swapping array:\")\n",
    "print(array)\n"
   ]
  },
  {
   "cell_type": "code",
   "execution_count": null,
   "id": "a6e26b6a-a5f4-4c31-bf0f-24f82af2c6ae",
   "metadata": {},
   "outputs": [],
   "source": [
    "### Exercise 35:\n",
    "Create a 1D NumPy array and convert it into a column vector."
   ]
  },
  {
   "cell_type": "code",
   "execution_count": 109,
   "id": "ba780366-ef48-408e-9df4-b4b672114ed4",
   "metadata": {},
   "outputs": [
    {
     "name": "stdout",
     "output_type": "stream",
     "text": [
      "1D Array:\n",
      "[1 2 3 4 5]\n",
      "Column Vector:\n",
      "[[1]\n",
      " [2]\n",
      " [3]\n",
      " [4]\n",
      " [5]]\n"
     ]
    }
   ],
   "source": [
    "# Create a 1D NumPy array\n",
    "d1 = np.array([1, 2, 3, 4, 5])\n",
    "\n",
    "# Convert it into a column vector\n",
    "column_vector = d1.reshape(-1, 1)\n",
    "\n",
    "print(\"1D Array:\")\n",
    "print(d1)\n",
    "\n",
    "print(\"Column Vector:\")\n",
    "print(column_vector)\n"
   ]
  },
  {
   "cell_type": "code",
   "execution_count": null,
   "id": "f50718aa-6902-4107-b4f4-63e6d0ba43ab",
   "metadata": {},
   "outputs": [],
   "source": [
    "### Exercise 36:\n",
    "Find the determinant of a 3x3 matrix."
   ]
  },
  {
   "cell_type": "code",
   "execution_count": 108,
   "id": "14f44d4e-e63a-4a43-b389-da684159df0b",
   "metadata": {},
   "outputs": [
    {
     "name": "stdout",
     "output_type": "stream",
     "text": [
      "Matrix:\n",
      "[[1 4 3]\n",
      " [1 5 4]\n",
      " [9 2 6]]\n",
      "Determinant of the matrix: 13.0\n"
     ]
    }
   ],
   "source": [
    "\n",
    "\n",
    "matrix = np.array([[1, 4, 3],\n",
    "                   [1, 5, 4],\n",
    "                   [9, 2, 6]])\n",
    "\n",
    "# Calculate the determinant of the matrix\n",
    "determinant = np.linalg.det(matrix)\n",
    "det1=np.round(determinant)\n",
    "print(\"Matrix:\")\n",
    "print(matrix)\n",
    "print(\"Determinant of the matrix:\", det1)\n"
   ]
  },
  {
   "cell_type": "code",
   "execution_count": null,
   "id": "e0843359-9776-4ae3-9863-a48417e71598",
   "metadata": {},
   "outputs": [],
   "source": [
    "### Exercise 37:\n",
    "Find the eigenvalues and eigenvectors of a 2x2 matrix."
   ]
  },
  {
   "cell_type": "code",
   "execution_count": 49,
   "id": "ffbcadc4-6b36-4457-8fb5-05fcfcaf16a7",
   "metadata": {},
   "outputs": [
    {
     "name": "stdout",
     "output_type": "stream",
     "text": [
      "The eigen values are:\n",
      "[-0.74456265 10.74456265]\n",
      "The eigen vectors are:\n",
      "[[-0.82456484 -0.41597356]\n",
      " [ 0.56576746 -0.90937671]]\n"
     ]
    }
   ],
   "source": [
    "R=np.array([[2, 4],[6, 8]])\n",
    "e_values,e_vectors=np.linalg.eig(R)\n",
    "print(\"The eigen values are:\" )\n",
    "print(e_values)\n",
    "print(\"The eigen vectors are:\" )\n",
    "print(e_vectors)"
   ]
  },
  {
   "cell_type": "code",
   "execution_count": null,
   "id": "5408e8ff-634b-4329-a6f3-3cf84b4e31b2",
   "metadata": {},
   "outputs": [],
   "source": [
    "### Exercise 38:\n",
    "Solve a system of linear equations using NumPy."
   ]
  },
  {
   "cell_type": "code",
   "execution_count": 51,
   "id": "3ea96741-0c05-408f-b77d-0f913e410c9e",
   "metadata": {},
   "outputs": [
    {
     "name": "stdout",
     "output_type": "stream",
     "text": [
      "Solution:\n",
      "x = 7.0\n",
      "y = -2.0\n"
     ]
    }
   ],
   "source": [
    "A = np.array([[2, 3],\n",
    "              [4, 5]])\n",
    "\n",
    "# Constant terms vector\n",
    "b = np.array([8, 18])\n",
    "\n",
    "# Solve the system of equations\n",
    "solution = np.linalg.solve(A, b)\n",
    "\n",
    "print(\"Solution:\")\n",
    "print(\"x =\", solution[0])\n",
    "print(\"y =\", solution[1])\n"
   ]
  },
  {
   "cell_type": "code",
   "execution_count": null,
   "id": "2cab39d8-169a-4938-b946-a5abdf7af461",
   "metadata": {},
   "outputs": [],
   "source": [
    "### Exercise 39:\n",
    "Add Gaussian noise to a NumPy array."
   ]
  },
  {
   "cell_type": "code",
   "execution_count": 107,
   "id": "1b88b826-10b1-40b8-ae3b-18c1aa747682",
   "metadata": {},
   "outputs": [
    {
     "name": "stdout",
     "output_type": "stream",
     "text": [
      "Original Array:\n",
      "[1 2 3 4 5]\n",
      "Noisy Array:\n",
      "[0.01113586 1.12831385 3.13303508 5.19248367 5.56184563]\n"
     ]
    }
   ],
   "source": [
    "\n",
    "original_array = np.array([1, 2, 3, 4, 5])\n",
    "mean = 0  # Mean of the Gaussian noise\n",
    "std_dev = 0.5  # Standard deviation of the Gaussian noise\n",
    "\n",
    "# Generate Gaussian noise\n",
    "noise = np.random.normal(mean, std_dev, original_array.shape)\n",
    "\n",
    "noisy_array = original_array + noise\n",
    "\n",
    "print(\"Original Array:\")\n",
    "print(original_array)\n",
    "\n",
    "print(\"Noisy Array:\")\n",
    "print(noisy_array)\n"
   ]
  },
  {
   "cell_type": "code",
   "execution_count": null,
   "id": "89a8908d-d076-4e76-a519-d2782c9826ec",
   "metadata": {},
   "outputs": [],
   "source": [
    "### Exercise 40:\n",
    "Create a 4x4 matrix and extract the diagonal elements."
   ]
  },
  {
   "cell_type": "code",
   "execution_count": 55,
   "id": "1418d190-b8f0-40d7-84b9-4945afa4a92a",
   "metadata": {},
   "outputs": [
    {
     "name": "stdout",
     "output_type": "stream",
     "text": [
      "[ 1  6 14 15]\n"
     ]
    }
   ],
   "source": [
    "G=np.array([[1, 2, 3, 4],\n",
    "            [5, 6, 7, 8],\n",
    "            [10, 12, 14, 16],\n",
    "            [9, 11, 13, 15]])\n",
    "G1=np.diagonal(G)\n",
    "print(G1)"
   ]
  },
  {
   "cell_type": "code",
   "execution_count": null,
   "id": "4a2db0c0-e543-4d87-8271-705a94c3a62d",
   "metadata": {},
   "outputs": [],
   "source": [
    "### Exercise 41:\n",
    "Generate a NumPy array of 100 random values and clip the values to a range between 10 and 50."
   ]
  },
  {
   "cell_type": "code",
   "execution_count": 56,
   "id": "6abd2c5f-acb6-4857-a61d-00fa9b212b73",
   "metadata": {},
   "outputs": [
    {
     "name": "stdout",
     "output_type": "stream",
     "text": [
      "Random Values:\n",
      "[86.17839913 15.42592496 24.98400927 55.5381985  17.61707591 20.029582\n",
      " 17.1261362  60.85258314 13.91158519  6.94666762 31.74835123 24.0434417\n",
      "  1.09592248 94.50009705 50.16608065 39.35463119 25.09743523  6.19379703\n",
      " 16.6218934  40.79185753  8.53193389 33.23384152 81.71421694 50.80136907\n",
      " 41.52202285 80.30940152 84.73756919 90.54334763 40.61866129 34.84396428\n",
      " 78.12742647 94.87506944 61.3989911  45.00965632 74.23363476 61.02572076\n",
      " 44.77884055 21.50566365 42.86283278  0.85938071 74.74241476 53.48899933\n",
      "  5.76722152 25.16998075 43.93807029 63.90347155 77.17982319 38.71886959\n",
      "  5.64343411 65.13377463 12.64501908 49.72443851 33.34054811 10.04119181\n",
      " 31.10661414 87.84348233 60.2037806  34.07863593 41.51064521  5.07533639\n",
      " 60.82224393 71.97743525 14.32372686 52.30884076 73.73133711 39.26268988\n",
      " 29.4458578   3.70824133  7.54789298 99.2341877  66.5798375  74.31736745\n",
      "  5.12506379 84.32854357 94.79239168 33.88207702 34.7346186  34.95763763\n",
      " 57.53849663 26.95050743 58.91675013 78.43031926 23.69785139 16.82093658\n",
      " 44.5733983  60.17964883 44.14628504 89.60949678 95.9413038  43.14569701\n",
      " 61.5491314  17.07107699 85.14869812 56.34172509 19.79303939 51.32896617\n",
      " 34.55120997 39.21686378 82.77413009 37.98868848]\n",
      "\n",
      "Clipped Values:\n",
      "[50.         15.42592496 24.98400927 50.         17.61707591 20.029582\n",
      " 17.1261362  50.         13.91158519 10.         31.74835123 24.0434417\n",
      " 10.         50.         50.         39.35463119 25.09743523 10.\n",
      " 16.6218934  40.79185753 10.         33.23384152 50.         50.\n",
      " 41.52202285 50.         50.         50.         40.61866129 34.84396428\n",
      " 50.         50.         50.         45.00965632 50.         50.\n",
      " 44.77884055 21.50566365 42.86283278 10.         50.         50.\n",
      " 10.         25.16998075 43.93807029 50.         50.         38.71886959\n",
      " 10.         50.         12.64501908 49.72443851 33.34054811 10.04119181\n",
      " 31.10661414 50.         50.         34.07863593 41.51064521 10.\n",
      " 50.         50.         14.32372686 50.         50.         39.26268988\n",
      " 29.4458578  10.         10.         50.         50.         50.\n",
      " 10.         50.         50.         33.88207702 34.7346186  34.95763763\n",
      " 50.         26.95050743 50.         50.         23.69785139 16.82093658\n",
      " 44.5733983  50.         44.14628504 50.         50.         43.14569701\n",
      " 50.         17.07107699 50.         50.         19.79303939 50.\n",
      " 34.55120997 39.21686378 50.         37.98868848]\n"
     ]
    }
   ],
   "source": [
    "\n",
    "random_values = np.random.uniform(0, 100, size=100)\n",
    "\n",
    "# Clip the values to the range between 10 and 50\n",
    "clipped_values = np.clip(random_values, 10, 50)\n",
    "\n",
    "print(\"Random Values:\")\n",
    "print(random_values)\n",
    "\n",
    "print(\"Clipped Values:\")\n",
    "print(clipped_values)\n"
   ]
  },
  {
   "cell_type": "code",
   "execution_count": null,
   "id": "522042ae-4a37-4123-b3dd-fa6fcd1efa91",
   "metadata": {},
   "outputs": [],
   "source": [
    "### Exercise 42:\n",
    "Create a 2D NumPy array and replace all negative values with zero."
   ]
  },
  {
   "cell_type": "code",
   "execution_count": 58,
   "id": "a8eea523-4423-4196-a0d3-61e5ccdd5932",
   "metadata": {},
   "outputs": [
    {
     "name": "stdout",
     "output_type": "stream",
     "text": [
      "Original Array:\n",
      "[[ 1 -2  3]\n",
      " [ 7 -8  9]]\n",
      "\n",
      "Array after replacing negative values with zero:\n",
      "[[1 0 3]\n",
      " [7 0 9]]\n"
     ]
    }
   ],
   "source": [
    "\n",
    "\n",
    "# Create a 2D NumPy array with some negative values\n",
    "array_2d = np.array([[1, -2, 3],\n",
    "                     [7, -8, 9]])\n",
    "\n",
    "print(\"Original Array:\")\n",
    "print(array_2d)\n",
    "\n",
    "# Replace all negative values with zero\n",
    "array_2d[array_2d < 0] = 0\n",
    "\n",
    "print(\"Array after replacing negative values with zero:\")\n",
    "print(array_2d)"
   ]
  },
  {
   "cell_type": "code",
   "execution_count": null,
   "id": "8eda52cb-67f0-4b46-8370-fead4a5d3ed1",
   "metadata": {},
   "outputs": [],
   "source": [
    "### Exercise 43:\n",
    "Find the inner and outer products of two NumPy arrays."
   ]
  },
  {
   "cell_type": "code",
   "execution_count": 59,
   "id": "9e96d864-5e9f-4c5c-b3f0-86405061c96e",
   "metadata": {},
   "outputs": [
    {
     "name": "stdout",
     "output_type": "stream",
     "text": [
      "Array a: [1 2 3]\n",
      "Array b: [4 5 6]\n",
      "\n",
      "Inner Product: 32\n",
      "\n",
      "Outer Product:\n",
      " [[ 4  5  6]\n",
      " [ 8 10 12]\n",
      " [12 15 18]]\n"
     ]
    }
   ],
   "source": [
    "\n",
    "\n",
    "# Define two 1D NumPy arrays\n",
    "a = np.array([1, 2, 3])\n",
    "b = np.array([4, 5, 6])\n",
    "\n",
    "# Calculate the inner product\n",
    "inner_product = np.dot(a, b)\n",
    "\n",
    "# Calculate the outer product\n",
    "outer_product = np.outer(a, b)\n",
    "\n",
    "print(\"Array a:\", a)\n",
    "print(\"Array b:\", b)\n",
    "print(\"\\nInner Product:\", inner_product)\n",
    "print(\"\\nOuter Product:\\n\", outer_product)\n"
   ]
  },
  {
   "cell_type": "code",
   "execution_count": null,
   "id": "99494238-1675-412f-8453-54097c0f26e6",
   "metadata": {},
   "outputs": [],
   "source": [
    "### Exercise 45:\n",
    "Create a structured NumPy array with fields for `name`, `age`, and `height`."
   ]
  },
  {
   "cell_type": "code",
   "execution_count": 63,
   "id": "3580285a-a777-48c0-8efd-dbadef5425f8",
   "metadata": {},
   "outputs": [
    {
     "name": "stdout",
     "output_type": "stream",
     "text": [
      "Structured NumPy Array:\n",
      "[('Alice', 30, 5.5) ('Bob', 25, 6. ) ('Charlie', 35, 5.8)]\n"
     ]
    }
   ],
   "source": [
    "\n",
    "\n",
    "# Define the structured data type\n",
    "dtype = np.dtype([('name', 'U10'),  # Unicode string of length 10\n",
    "                  ('age', 'i4'),   # Integer (4 bytes)\n",
    "                  ('height', 'f4') # Float (4 bytes)\n",
    "                 ])\n",
    "\n",
    "# Create a structured NumPy array\n",
    "data = np.array([('Alice', 30, 5.5),\n",
    "                 ('Bob', 25, 6.0),\n",
    "                 ('Charlie', 35, 5.8)],\n",
    "                dtype=dtype)\n",
    "\n",
    "print(\"Structured NumPy Array:\")\n",
    "print(data)\n"
   ]
  },
  {
   "cell_type": "code",
   "execution_count": null,
   "id": "8fe93f4d-7b96-4815-8c85-4edf3ed628fe",
   "metadata": {},
   "outputs": [],
   "source": [
    "### Exercise 46:\n",
    "Create a 5x5 matrix of random integers and count the occurrences of each unique value."
   ]
  },
  {
   "cell_type": "code",
   "execution_count": 69,
   "id": "7b73f8b5-3f74-463e-974d-1bff1b8486da",
   "metadata": {},
   "outputs": [
    {
     "name": "stdout",
     "output_type": "stream",
     "text": [
      "Matrix:\n",
      "[[1 1 9 6 3]\n",
      " [2 3 3 6 0]\n",
      " [6 1 0 8 3]\n",
      " [2 3 7 4 3]\n",
      " [3 5 5 7 8]]\n",
      "Unique Values and their Counts:\n",
      "Value 0: 2 occurrences\n",
      "Value 1: 3 occurrences\n",
      "Value 2: 2 occurrences\n",
      "Value 3: 7 occurrences\n",
      "Value 4: 1 occurrences\n",
      "Value 5: 2 occurrences\n",
      "Value 6: 3 occurrences\n",
      "Value 7: 2 occurrences\n",
      "Value 8: 2 occurrences\n",
      "Value 9: 1 occurrences\n"
     ]
    }
   ],
   "source": [
    "\n",
    "matrix = np.random.randint(0, 10, size=(5, 5))\n",
    "\n",
    "# Count the occurrences of each unique value\n",
    "unique_values, counts = np.unique(matrix, return_counts=True)\n",
    "\n",
    "# Display the results\n",
    "print(\"Matrix:\")\n",
    "print(matrix)\n",
    "\n",
    "print(\"Unique Values and their Counts:\")\n",
    "for value, count in zip(unique_values, counts):\n",
    "    print(f\"Value {value}: {count} occurrences\")\n"
   ]
  },
  {
   "cell_type": "code",
   "execution_count": null,
   "id": "c96d0efa-c696-411e-b2bc-78e841c8581d",
   "metadata": {},
   "outputs": [],
   "source": [
    "### Exercise 47:\n",
    "Generate a random 3x3 NumPy array and subtract the mean of each row from the corresponding row."
   ]
  },
  {
   "cell_type": "code",
   "execution_count": 68,
   "id": "928c6639-98ad-440e-919e-1c1d8e63c8a2",
   "metadata": {},
   "outputs": [
    {
     "name": "stdout",
     "output_type": "stream",
     "text": [
      "Original Array:\n",
      "[[0.94488785 0.95339312 0.70976889]\n",
      " [0.90642949 0.70457974 0.46763236]\n",
      " [0.60544079 0.37659404 0.28730425]]\n",
      "Row Means:\n",
      "[[0.86934995]\n",
      " [0.69288053]\n",
      " [0.42311303]]\n",
      "Resulting Array after Subtracting Row Means:\n",
      "[[ 0.0755379   0.08404317 -0.15958107]\n",
      " [ 0.21354896  0.01169921 -0.22524817]\n",
      " [ 0.18232777 -0.04651899 -0.13580878]]\n"
     ]
    }
   ],
   "source": [
    "\n",
    "\n",
    "array = np.random.rand(3, 3)\n",
    "\n",
    "# Compute the mean of each row\n",
    "row_means = np.mean(array, axis=1, keepdims=True)\n",
    "\n",
    "# Subtract the mean from each row\n",
    "result_array = array - row_means\n",
    "\n",
    "print(\"Original Array:\")\n",
    "print(array)\n",
    "\n",
    "print(\"Row Means:\")\n",
    "print(row_means)\n",
    "\n",
    "print(\"Resulting Array after Subtracting Row Means:\")\n",
    "print(result_array)\n"
   ]
  },
  {
   "cell_type": "code",
   "execution_count": null,
   "id": "9d4bce4c-b6c8-4e69-afa5-081f88fd1e2d",
   "metadata": {},
   "outputs": [],
   "source": [
    "### Exercise 48:"
   ]
  },
  {
   "cell_type": "code",
   "execution_count": null,
   "id": "b9cb0566-87a9-464d-b51d-1f372c5dd5fe",
   "metadata": {},
   "outputs": [],
   "source": [
    "### Exercise 48:\n",
    "Create a NumPy array of random integers and check if any of the values are greater than 50."
   ]
  },
  {
   "cell_type": "code",
   "execution_count": 70,
   "id": "3c952f35-282f-4c0d-9bda-49226f40c5f8",
   "metadata": {},
   "outputs": [
    {
     "name": "stdout",
     "output_type": "stream",
     "text": [
      "Array:\n",
      "[73 58 30 66 49 28 66 45 82 29]\n",
      "values greater than 50: True\n"
     ]
    }
   ],
   "source": [
    "\n",
    "\n",
    "array = np.random.randint(0, 100, size=(10,))  # Change size=(10,) for a 1D array of 10 integers\n",
    "\n",
    "# Check if any values are greater than 50\n",
    "any_greater_than_50 = np.any(array > 50)\n",
    "\n",
    "print(\"Array:\")\n",
    "print(array)\n",
    "\n",
    "print(\"values greater than 50:\", any_greater_than_50)\n"
   ]
  },
  {
   "cell_type": "code",
   "execution_count": null,
   "id": "861bdf80-5cec-4a55-a355-883548a8fa59",
   "metadata": {},
   "outputs": [],
   "source": [
    "### Exercise 49:"
   ]
  },
  {
   "cell_type": "code",
   "execution_count": null,
   "id": "749d690e-c0be-47a5-a348-e2b3b54beebe",
   "metadata": {},
   "outputs": [],
   "source": [
    "Calculate the moving average of a 1D NumPy array."
   ]
  },
  {
   "cell_type": "code",
   "execution_count": 71,
   "id": "f3898872-db65-47d1-b966-3ef6728011eb",
   "metadata": {},
   "outputs": [
    {
     "name": "stdout",
     "output_type": "stream",
     "text": [
      "Original Array:\n",
      "[ 1  2  3  4  5  6  7  8  9 10]\n",
      "\n",
      "Moving Average (window size = 3):\n",
      "[2. 3. 4. 5. 6. 7. 8. 9.]\n"
     ]
    }
   ],
   "source": [
    "\n",
    "data = np.array([1, 2, 3, 4, 5, 6, 7, 8, 9, 10])\n",
    "\n",
    "# Define the window size\n",
    "window_size = 3\n",
    "\n",
    "# Calculate the moving average using convolution\n",
    "weights = np.ones(window_size) / window_size\n",
    "moving_average = np.convolve(data, weights, mode='valid')\n",
    "\n",
    "print(\"Original Array:\")\n",
    "print(data)\n",
    "\n",
    "print(\"Moving Average (window size = {}):\".format(window_size))\n",
    "print(moving_average)\n"
   ]
  },
  {
   "cell_type": "code",
   "execution_count": null,
   "id": "6cbe1afb-f602-4117-9837-ee41c6250e23",
   "metadata": {},
   "outputs": [],
   "source": [
    "### Exercise 50:\n",
    "Find the Pearson correlation coefficient between two NumPy arrays."
   ]
  },
  {
   "cell_type": "code",
   "execution_count": 72,
   "id": "c34a08f6-0ac7-4c26-a177-f23b5b151e41",
   "metadata": {},
   "outputs": [
    {
     "name": "stdout",
     "output_type": "stream",
     "text": [
      "Array x: [1 2 3 4 5]\n",
      "Array y: [5 4 3 2 1]\n",
      "\n",
      "Pearson Correlation Coefficient: -0.9999999999999999\n"
     ]
    }
   ],
   "source": [
    "\n",
    "\n",
    "# Create two 1D NumPy arrays\n",
    "x = np.array([1, 2, 3, 4, 5])\n",
    "y = np.array([5, 4, 3, 2, 1])\n",
    "\n",
    "# Calculate the Pearson correlation coefficient\n",
    "correlation_matrix = np.corrcoef(x, y)\n",
    "pearson_coefficient = correlation_matrix[0, 1]  # Get the correlation coefficient\n",
    "\n",
    "print(\"Array x:\", x)\n",
    "print(\"Array y:\", y)\n",
    "print(\"Correlation Coefficient:\", pearson_coefficient)"
   ]
  },
  {
   "cell_type": "code",
   "execution_count": null,
   "id": "1e95d54f-02a9-437b-b1d7-08c49a8c5ce1",
   "metadata": {},
   "outputs": [],
   "source": [
    "### Exercise 51:\n",
    "Convert a NumPy array of radians to degrees."
   ]
  },
  {
   "cell_type": "code",
   "execution_count": 73,
   "id": "2e485af3-b31a-4a27-8647-92f5bb718829",
   "metadata": {},
   "outputs": [
    {
     "name": "stdout",
     "output_type": "stream",
     "text": [
      "Radians:\n",
      "[0.         0.78539816 1.57079633 3.14159265 4.71238898 6.28318531]\n",
      "\n",
      "Degrees:\n",
      "[  0.  45.  90. 180. 270. 360.]\n"
     ]
    }
   ],
   "source": [
    "\n",
    "radians = np.array([0, np.pi/4, np.pi/2, np.pi, 3*np.pi/2, 2*np.pi])\n",
    "\n",
    "# Convert radians to degrees\n",
    "degrees = np.degrees(radians)\n",
    "\n",
    "print(\"Radians:\")\n",
    "print(radians)\n",
    "\n",
    "print(\"Degrees:\")\n",
    "print(degrees)\n"
   ]
  },
  {
   "cell_type": "code",
   "execution_count": null,
   "id": "11ab22c2-9449-4b0f-839f-1a4fda529341",
   "metadata": {},
   "outputs": [],
   "source": [
    "### Exercise 52:\n",
    "Create a random NumPy array and compute its variance and standard deviation."
   ]
  },
  {
   "cell_type": "code",
   "execution_count": 74,
   "id": "7121c3e2-7fb8-4791-b913-d9eab9f35f02",
   "metadata": {},
   "outputs": [
    {
     "name": "stdout",
     "output_type": "stream",
     "text": [
      "Random Array:\n",
      "[0.97450962 0.10806674 0.9309195  0.27345403 0.57420523 0.0141883\n",
      " 0.33892168 0.62993501 0.28812302 0.22977558]\n",
      "\n",
      "Variance: 0.09773557906835255\n",
      "Standard Deviation: 0.31262690074328625\n"
     ]
    }
   ],
   "source": [
    "\n",
    "\n",
    "array = np.random.rand(10)\n",
    "\n",
    "# Compute the variance\n",
    "variance = np.var(array)\n",
    "\n",
    "# Compute the standard deviation\n",
    "standard_deviation = np.std(array)\n",
    "\n",
    "print(\"Random Array:\")\n",
    "print(array)\n",
    "\n",
    "print(\"Variance:\", variance)\n",
    "print(\"Standard Deviation:\", standard_deviation)\n"
   ]
  },
  {
   "cell_type": "code",
   "execution_count": null,
   "id": "c9132b19-b298-4347-a8c4-56a1f9eb7f75",
   "metadata": {},
   "outputs": [],
   "source": [
    "### Exercise 53:\n",
    "Create a 2D NumPy array and find the indices of the maximum values along each axis."
   ]
  },
  {
   "cell_type": "code",
   "execution_count": 75,
   "id": "1c92c8e1-f99a-4283-b6aa-2da8c1e4cb61",
   "metadata": {},
   "outputs": [
    {
     "name": "stdout",
     "output_type": "stream",
     "text": [
      "Array:\n",
      "[[1 2 3]\n",
      " [4 5 6]\n",
      " [7 8 9]]\n",
      "\n",
      "Indices of Maximum Values along Axis 0 (columns):\n",
      "[2 2 2]\n",
      "\n",
      "Indices of Maximum Values along Axis 1 (rows):\n",
      "[2 2 2]\n"
     ]
    }
   ],
   "source": [
    "\n",
    "array = np.array([[1, 2, 3],\n",
    "                  [4, 5, 6],\n",
    "                  [7, 8, 9]])\n",
    "\n",
    "# Find the indices of the maximum values along each axis\n",
    "max_indices_axis0 = np.argmax(array, axis=0)  #  along columns\n",
    "max_indices_axis1 = np.argmax(array, axis=1)  #  along rows\n",
    "\n",
    "print(\"Array:\")\n",
    "print(array)\n",
    "\n",
    "print(\"Indices of Maximum Values along Axis 0 (columns):\")\n",
    "print(max_indices_axis0)\n",
    "\n",
    "print(\"Indices of Maximum Values along Axis 1 (rows):\")\n",
    "print(max_indices_axis1)\n"
   ]
  },
  {
   "cell_type": "code",
   "execution_count": null,
   "id": "bfa9f568-39dd-42bc-89a8-ea8a7374ae69",
   "metadata": {},
   "outputs": [],
   "source": [
    "### Exercise 54:\n",
    "Compute the inverse of a 2x2 NumPy matrix."
   ]
  },
  {
   "cell_type": "code",
   "execution_count": 77,
   "id": "734b1b99-dd20-4b3b-9c24-0763b803b38a",
   "metadata": {},
   "outputs": [
    {
     "name": "stdout",
     "output_type": "stream",
     "text": [
      "Original Matrix:\n",
      "[[4 2]\n",
      " [3 1]]\n",
      "\n",
      "Inverse Matrix:\n",
      "[[-0.5  1. ]\n",
      " [ 1.5 -2. ]]\n",
      "Product of Original and Inverse:\n",
      "[[1. 0.]\n",
      " [0. 1.]]\n"
     ]
    }
   ],
   "source": [
    "\n",
    "\n",
    "matrix = np.array([[4, 2],\n",
    "                   [3, 1]])\n",
    "\n",
    "# Compute the inverse of the matrix\n",
    "inverse_matrix = np.linalg.inv(matrix)\n",
    "\n",
    "print(\"Original Matrix:\")\n",
    "print(matrix)\n",
    "\n",
    "print(\"Inverse Matrix:\")\n",
    "print(inverse_matrix)\n",
    "\n",
    "# Verify the result by multiplying the original matrix by its inverse\n",
    "identity_matrix = np.dot(matrix, inverse_matrix)\n",
    "print(\"Product of Original and Inverse:\")\n",
    "print(identity_matrix)\n"
   ]
  },
  {
   "cell_type": "code",
   "execution_count": null,
   "id": "c0281dbc-e1fb-4b2f-a2e3-1e120ece9919",
   "metadata": {},
   "outputs": [],
   "source": [
    "### Exercise 55:\n",
    "Create a NumPy array of 10 random values and standardize it (mean 0, variance 1)."
   ]
  },
  {
   "cell_type": "code",
   "execution_count": 79,
   "id": "f219991e-7b17-44ae-8caf-692ad82435c2",
   "metadata": {},
   "outputs": [
    {
     "name": "stdout",
     "output_type": "stream",
     "text": [
      "Original Array:\n",
      "[0.80821606 0.09919273 0.66645566 0.8448062  0.61375994 0.72964201\n",
      " 0.6347442  0.03925307 0.66146407 0.16816254]\n",
      "Mean: 0.526569648040838\n",
      "Standard Deviation: 0.2876612957658631\n",
      "Standardized Array:\n",
      "[ 0.97909041 -1.4856949   0.48628722  1.10628908  0.30310055  0.7059426\n",
      "  0.37604835 -1.69406378  0.46893489 -1.24593441]\n",
      "Mean of Standardized Array: 0.0\n",
      "Variance of Standardized Array: 0.9999999999999998\n"
     ]
    }
   ],
   "source": [
    "\n",
    "array = np.random.rand(10)  # Random values between 0 and 1\n",
    "\n",
    "# Calculate the mean and standard deviation\n",
    "mean = np.mean(array)\n",
    "std_dev = np.std(array)\n",
    "\n",
    "# Standardize the array\n",
    "standardized_array = (array - mean) / std_dev\n",
    "\n",
    "print(\"Original Array:\")\n",
    "print(array)\n",
    "\n",
    "print(\"Mean:\", mean)\n",
    "print(\"Standard Deviation:\", std_dev)\n",
    "\n",
    "print(\"Standardized Array:\")\n",
    "print(standardized_array)\n",
    "\n",
    "# Check the mean and variance of the standardized array\n",
    "print(\"Mean of Standardized Array:\", np.mean(standardized_array))\n",
    "print(\"Variance of Standardized Array:\", np.var(standardized_array))\n"
   ]
  },
  {
   "cell_type": "code",
   "execution_count": null,
   "id": "7d980d31-8aa8-43df-baca-d9b305924490",
   "metadata": {},
   "outputs": [],
   "source": [
    "### Exercise 56:\n",
    "Perform element-wise addition and subtraction on two NumPy arrays."
   ]
  },
  {
   "cell_type": "code",
   "execution_count": 80,
   "id": "acefb369-aee4-4bdc-8be5-cc52d2d47c71",
   "metadata": {},
   "outputs": [
    {
     "name": "stdout",
     "output_type": "stream",
     "text": [
      "[1 2 3 4 5]\n",
      "[5 4 3 2 1]\n",
      "Element-wise Addition:\n",
      "[6 6 6 6 6]\n",
      "Element-wise Subtraction:\n",
      "[-4 -2  0  2  4]\n"
     ]
    }
   ],
   "source": [
    "\n",
    "array1 = np.array([1, 2, 3, 4, 5])\n",
    "array2 = np.array([5, 4, 3, 2, 1])\n",
    "\n",
    "# Perform element-wise addition\n",
    "addition_result = array1 + array2\n",
    "\n",
    "# Perform element-wise subtraction\n",
    "subtraction_result = array1 - array2\n",
    "print(array1)\n",
    "\n",
    "print(array2)\n",
    "\n",
    "print(\"Element-wise Addition:\")\n",
    "print(addition_result)\n",
    "\n",
    "print(\"Element-wise Subtraction:\")\n",
    "print(subtraction_result)\n"
   ]
  },
  {
   "cell_type": "code",
   "execution_count": null,
   "id": "483b4ca0-164a-4b1c-8ea2-70efaef81d02",
   "metadata": {},
   "outputs": [],
   "source": [
    "### Exercise 57:\n",
    "Create a NumPy array of random values and find the maximum element's index."
   ]
  },
  {
   "cell_type": "code",
   "execution_count": 81,
   "id": "cc030650-7456-4381-845c-ab6287604617",
   "metadata": {},
   "outputs": [
    {
     "name": "stdout",
     "output_type": "stream",
     "text": [
      "Random Array:\n",
      "[0.19115613 0.57869896 0.12959348 0.85929784 0.61859079 0.92697318\n",
      " 0.23125619 0.14660863 0.01350676 0.38690224]\n",
      "\n",
      "Index of Maximum Element: 5\n",
      "Maximum Element: 0.9269731775253222\n"
     ]
    }
   ],
   "source": [
    "\n",
    "\n",
    "array = np.random.rand(10)  # Array of 10 random values between 0 and 1\n",
    "\n",
    "# Find the index of the maximum element\n",
    "max_index = np.argmax(array)\n",
    "\n",
    "print(\"Random Array:\")\n",
    "print(array)\n",
    "\n",
    "print(\"Index of Maximum Element:\", max_index)\n",
    "\n",
    "print(\"Maximum Element:\", array[max_index])\n"
   ]
  },
  {
   "cell_type": "code",
   "execution_count": null,
   "id": "a81e3089-a0d4-4f38-b58f-5c6b5ba185ca",
   "metadata": {},
   "outputs": [],
   "source": [
    "### Exercise 58:\n",
    "Create a 3x3 NumPy array and rotate it by 90 degrees."
   ]
  },
  {
   "cell_type": "code",
   "execution_count": 82,
   "id": "45892eb4-c443-4e18-b8ac-b66279a1a33d",
   "metadata": {},
   "outputs": [
    {
     "name": "stdout",
     "output_type": "stream",
     "text": [
      "Original Array:\n",
      "[[1 2 3]\n",
      " [4 5 6]\n",
      " [7 8 9]]\n",
      "Rotated Array:\n",
      "[[3 6 9]\n",
      " [2 5 8]\n",
      " [1 4 7]]\n"
     ]
    }
   ],
   "source": [
    "\n",
    "array = np.array([[1, 2, 3],\n",
    "                  [4, 5, 6],\n",
    "                  [7, 8, 9]])\n",
    "\n",
    "# Rotate the array by 90 degrees counter-clockwise\n",
    "rotated_array = np.rot90(array)\n",
    "\n",
    "print(\"Original Array:\")\n",
    "print(array)\n",
    "\n",
    "print(\"Rotated Array:\")\n",
    "print(rotated_array)\n"
   ]
  },
  {
   "cell_type": "code",
   "execution_count": null,
   "id": "bea3ba69-de5a-4d38-a5ad-3acadcc5aa22",
   "metadata": {},
   "outputs": [],
   "source": [
    "### Exercise 59:\n",
    "Compute the Frobenius norm of a matrix."
   ]
  },
  {
   "cell_type": "code",
   "execution_count": 83,
   "id": "b6c15c17-6137-476d-b59a-e694f511b8d1",
   "metadata": {},
   "outputs": [
    {
     "name": "stdout",
     "output_type": "stream",
     "text": [
      "Matrix:\n",
      "[[1 2 3]\n",
      " [4 5 6]\n",
      " [7 8 9]]\n",
      "\n",
      "Frobenius Norm: 16.881943016134134\n"
     ]
    }
   ],
   "source": [
    "\n",
    "\n",
    "matrixx = np.array([[1, 2, 3],\n",
    "                   [4, 5, 6],\n",
    "                   [7, 8, 9]])\n",
    "\n",
    "# Compute the Frobenius norm\n",
    "frobenius_norm = np.linalg.norm(matrixx, 'fro')\n",
    "\n",
    "print(\"Matrix:\")\n",
    "print(matrixx)\n",
    "\n",
    "print(\"Frobenius Norm:\", frobenius_norm)\n"
   ]
  },
  {
   "cell_type": "code",
   "execution_count": null,
   "id": "be4f94d5-d87c-4ade-a9e6-b7d60e77ef51",
   "metadata": {},
   "outputs": [],
   "source": [
    "### Exercise 60:\n",
    "Create a 3D NumPy array and slice out a subarray."
   ]
  },
  {
   "cell_type": "code",
   "execution_count": 84,
   "id": "7591e165-d916-400b-887e-930f123f6bdd",
   "metadata": {},
   "outputs": [
    {
     "name": "stdout",
     "output_type": "stream",
     "text": [
      "[[[ 1  2  3  4]\n",
      "  [ 5  6  7  8]\n",
      "  [ 9 10 11 12]]\n",
      "\n",
      " [[13 14 15 16]\n",
      "  [17 18 19 20]\n",
      "  [21 22 23 24]]]\n",
      "\n",
      "Sliced Subarray:\n",
      "[[[ 1  2]\n",
      "  [ 5  6]]\n",
      "\n",
      " [[13 14]\n",
      "  [17 18]]]\n"
     ]
    }
   ],
   "source": [
    "\n",
    "D3 = np.array([[[ 1,  2,  3,  4],\n",
    "                       [ 5,  6,  7,  8],\n",
    "                       [ 9, 10, 11, 12]],\n",
    "\n",
    "                      [[13, 14, 15, 16],\n",
    "                       [17, 18, 19, 20],\n",
    "                       [21, 22, 23, 24]]])\n",
    "\n",
    "print(D3)\n",
    "\n",
    "subarray = D3[:, :2, :2]  # Taking all layers, first 2 rows, and first 2 columns\n",
    "\n",
    "print(\"Sliced Subarray:\")\n",
    "print(subarray)\n"
   ]
  },
  {
   "cell_type": "markdown",
   "id": "c3c87b00-8953-4c1c-ba1d-ba657591b755",
   "metadata": {},
   "source": []
  }
 ],
 "metadata": {
  "kernelspec": {
   "display_name": "Python 3 (ipykernel)",
   "language": "python",
   "name": "python3"
  },
  "language_info": {
   "codemirror_mode": {
    "name": "ipython",
    "version": 3
   },
   "file_extension": ".py",
   "mimetype": "text/x-python",
   "name": "python",
   "nbconvert_exporter": "python",
   "pygments_lexer": "ipython3",
   "version": "3.12.6"
  }
 },
 "nbformat": 4,
 "nbformat_minor": 5
}
